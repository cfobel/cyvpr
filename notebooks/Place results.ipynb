{
 "metadata": {
  "name": ""
 },
 "nbformat": 3,
 "nbformat_minor": 0,
 "worksheets": [
  {
   "cells": [
    {
     "cell_type": "heading",
     "level": 1,
     "metadata": {},
     "source": [
      "Table of contents"
     ]
    },
    {
     "cell_type": "markdown",
     "metadata": {},
     "source": [
      " * [Overview](#Overview)\n",
      " * [Analysis](#Analysis)\n",
      "   * [Place process stats](#Place-process-stats)\n",
      "     * Plotting stats such as `temperature`, `success_ratio`, etc. throughout\n",
      "       the placement process."
     ]
    },
    {
     "cell_type": "heading",
     "level": 1,
     "metadata": {},
     "source": [
      "Overview"
     ]
    },
    {
     "cell_type": "markdown",
     "metadata": {},
     "source": [
      "[Back to top](#Table-of-contents) $\\cdot$\n",
      "[Next](#Analysis)"
     ]
    },
    {
     "cell_type": "markdown",
     "metadata": {},
     "source": [
      "Recall that placement results are stored in an HDF file with the following\n",
      "structure:\n",
      "\n",
      "    <net-file_namebase _(e.g., `ex5p`, `clma`, etc.)_> (Group)\n",
      "        \\--> `placements` (Table)\n",
      "        \\--> `placement_stats` (Group)\n",
      "                \\--> `P_` + <`block_positions_sha1`> (Table)\n",
      "\n",
      "\n",
      "For example:\n",
      "\n",
      "                    root\n",
      "                  /  |   \\\n",
      "                 /   |    \\\n",
      "                /    |     \\\n",
      "               /     |      \\\n",
      "              /      |       \\\n",
      "            ex5p    clma     tseng\n",
      "           /   \\     |       /    \\\n",
      "          /     \\   ...     /      \\\n",
      "    placements   \\  ... placements  stats\n",
      "                stats                /|\\\n",
      "                 /|\\                 ...\n",
      "                / | \\                ...\n",
      "               /  |  \\\n",
      "         `P_abc` ... `P_a1b2`\n",
      "\n",
      "where `ex5p`, `clma`, `tseng` in the above hierarchy represent groups\n",
      "containing `placements` tables, which store the block-positions and other\n",
      "details about each placement, along with the SHA1 hash of the 32-bit unsigned\n",
      "integer block-positions array.  The SHA1 hash is used to uniquely identify a\n",
      "placement.  The `placement_stats` group contains a table for each placement\n",
      "in the `placements` table, named according to the SHA1 hash of the\n",
      "corresponding placement block-positions.  Each `placement_stats` table\n",
      "includes a row for each outer-loop iteration of the place process.\n",
      "\n",
      "\n",
      "__NB__ The program [`vitables`] [1] can be used to browse the output file.\n",
      "\n",
      "[1]: http://vitables.org"
     ]
    },
    {
     "cell_type": "markdown",
     "metadata": {},
     "source": [
      "As an example, let's take a look at some placement results.\n",
      "First, we open the HDF file using the [`PyTables`] [1] Python package.\n",
      "\n",
      "[1]: https://github.com/PyTables/PyTables"
     ]
    },
    {
     "cell_type": "code",
     "collapsed": false,
     "input": [
      "from cyvpr.result.route import iter_min_channel_width_results\n",
      "import tables as ts"
     ],
     "language": "python",
     "metadata": {},
     "outputs": [],
     "prompt_number": 1
    },
    {
     "cell_type": "code",
     "collapsed": false,
     "input": [
      "h5f = ts.open_file('../../synced_results/placed-results-fast-bounding_box.h5',\n",
      "                   'r')"
     ],
     "language": "python",
     "metadata": {},
     "outputs": [],
     "prompt_number": 2
    },
    {
     "cell_type": "markdown",
     "metadata": {},
     "source": [
      "Now, let's look at the groups of routing results available, where each group\n",
      "contains results corresponding to a particular net-list file, as described\n",
      "in the hierarchy overview above.  In this case, we have a group corresponding\n",
      "to each net-list file in the MCNC benchmarks."
     ]
    },
    {
     "cell_type": "code",
     "collapsed": false,
     "input": [
      "h5f.root"
     ],
     "language": "python",
     "metadata": {},
     "outputs": [
      {
       "metadata": {},
       "output_type": "pyout",
       "prompt_number": 3,
       "text": [
        "/ (RootGroup) ''\n",
        "  children := ['spla' (Group), 'diffeq' (Group), 'clma' (Group), 'ex5p' (Group), 's38584.1' (Group), 's38417' (Group), 'dsip' (Group), 'ex1010' (Group), 'des' (Group), 'seq' (Group), 'bigkey' (Group), 'apex2' (Group), 's298' (Group), 'apex4' (Group), 'elliptic' (Group), 'alu4' (Group), 'tseng' (Group), 'pdc' (Group), 'frisc' (Group), 'misex3' (Group)]"
       ]
      }
     ],
     "prompt_number": 3
    },
    {
     "cell_type": "markdown",
     "metadata": {},
     "source": [
      "Let's take a closer look at one of the groups, `tseng`.  Here we can see that\n",
      "the `tseng` group contains a single `Table`, called `placements`, as well as\n",
      "a group called `placement_stats`, which matches the hierarchy diagram above."
     ]
    },
    {
     "cell_type": "code",
     "collapsed": false,
     "input": [
      "h5f.root.tseng"
     ],
     "language": "python",
     "metadata": {},
     "outputs": [
      {
       "metadata": {},
       "output_type": "pyout",
       "prompt_number": 4,
       "text": [
        "/tseng (Group) ''\n",
        "  children := ['placements' (Table), 'placement_stats' (Group)]"
       ]
      }
     ],
     "prompt_number": 4
    },
    {
     "cell_type": "markdown",
     "metadata": {},
     "source": [
      "The `route_states` table contains the following columns:"
     ]
    },
    {
     "cell_type": "code",
     "collapsed": false,
     "input": [
      "h5f.root.tseng.placements.cols"
     ],
     "language": "python",
     "metadata": {},
     "outputs": [
      {
       "metadata": {},
       "output_type": "pyout",
       "prompt_number": 5,
       "text": [
        "/tseng/placements.cols (Cols), 7 columns\n",
        "  net_file_md5 (Column(10,), |S32)\n",
        "  seed (Column(10,), uint32)\n",
        "  block_positions (Column(10, 1221, 3), ('<u4', (1221, 3)))\n",
        "  block_positions_sha1 (Column(10,), |S40)\n",
        "  start (Column(10,), float64)\n",
        "  end (Column(10,), float64)\n",
        "  placer_options (Cols(), Description)\n"
       ]
      }
     ],
     "prompt_number": 5
    },
    {
     "cell_type": "markdown",
     "metadata": {},
     "source": [
      "From the list of columns, we can see that the results table includes:\n",
      "\n",
      "  * SHA1 of the block-positions of the placement (`block_positions_sha1`)\n",
      "    * __NB__ This hash corresponds to the SHA1 value that is written to the\n",
      "      placement results table by the `cyvpr.bin.place`.  By using the SHA1\n",
      "      hash, we have a concise descriptor for labelling a unique placement.\n",
      "  * Random-number-generator seed for place process (`seed`)\n",
      "  * Start/end-time UNIX timestamps (`start`, `end`)\n",
      "  * MD5 hash of contents of VPR net-file (`net_file_md5`)\n",
      "    * By storing the MD5 hash rather than the path of the net-file, we\n",
      "      decouple the net-file from it's location on the file-system, which\n",
      "      helps when processing results on a different system from the one\n",
      "      where the placement was run.\n",
      " \n",
      "along with several other placement properties."
     ]
    },
    {
     "cell_type": "markdown",
     "metadata": {},
     "source": [
      "Furthermore, detailed information about each net can be found in the\n",
      "tables found in the `placement_stats` group, which contains the following\n",
      "values for each placement by block-positions SHA1 hash value, at each\n",
      "outer-loop iteration:\n",
      "\n",
      "  * Temperature\n",
      "  * Cost\n",
      "  * Success-ratio\n",
      "\n",
      "as shown below.\n",
      "\n",
      "__NB__ The number of rows in the `placement_stats` tables vary for each\n",
      "placement, according to the number of outer-loop iterations performed during\n",
      "each corresponding placement."
     ]
    },
    {
     "cell_type": "heading",
     "level": 1,
     "metadata": {},
     "source": [
      "Analysis"
     ]
    },
    {
     "cell_type": "markdown",
     "metadata": {},
     "source": [
      "[Back to top](#Table-of-contents) $\\cdot$\n",
      "[Previous](#Overview) $\\cdot$\n",
      "[Next](#Place-process-stats)"
     ]
    },
    {
     "cell_type": "markdown",
     "metadata": {},
     "source": [
      "To help analyze the placement results from the HDF result files, we use the\n",
      "[`pandas`] [1] Python package.\n",
      "\n",
      "From the `pandas` website:\n",
      "\n",
      "> Python has long been great for data munging and preparation, but less so for data analysis and modeling. pandas helps fill this gap, enabling you to carry out your entire data analysis workflow in Python without having to switch to a more domain specific language like R.\n",
      "\n",
      "[1]: http://pandas.pydata.org/"
     ]
    },
    {
     "cell_type": "code",
     "collapsed": false,
     "input": [
      "import numpy as np\n",
      "import pandas as pd "
     ],
     "language": "python",
     "metadata": {},
     "outputs": [],
     "prompt_number": 6
    },
    {
     "cell_type": "heading",
     "level": 2,
     "metadata": {},
     "source": [
      "Place process stats"
     ]
    },
    {
     "cell_type": "markdown",
     "metadata": {},
     "source": [
      "[Back to top](#Table-of-contents) $\\cdot$\n",
      "[Parent](#Analysis) $\\cdot$\n",
      "[Next](#Stats-summary-plot)"
     ]
    },
    {
     "cell_type": "markdown",
     "metadata": {},
     "source": [
      "In our case, we need to first load the data from our `placement_stats` tables\n",
      "from the HDF file into a `pandas.DataFrame` instance.\n",
      "\n",
      "__NB__ We prepend the placement block-positions SHA1 and the outer-loop\n",
      "iteration index to each row, allowing us to group results by _placement_ or\n",
      "by _outer-loop iteration_."
     ]
    },
    {
     "cell_type": "code",
     "collapsed": false,
     "input": [
      "data = np.array([(i, table._v_name[2:], )\n",
      "                 + tuple(row.fetch_all_fields())\n",
      "                 for table in h5f.root.tseng.placement_stats\n",
      "                 for i, row in enumerate(table)],\n",
      "                dtype=[('i', 'u4'), ('sha1', 'S40')]\n",
      "                + row.fetch_all_fields().dtype.descr)\n",
      "placement_results = pd.DataFrame(data)"
     ],
     "language": "python",
     "metadata": {},
     "outputs": [],
     "prompt_number": 7
    },
    {
     "cell_type": "heading",
     "level": 3,
     "metadata": {},
     "source": [
      "Stats summary plot"
     ]
    },
    {
     "cell_type": "markdown",
     "metadata": {},
     "source": [
      "[Back to top](#Table-of-contents) $\\cdot$\n",
      "[Parent](#Place-process-stats)"
     ]
    },
    {
     "cell_type": "markdown",
     "metadata": {},
     "source": [
      "Since multiple trials are run for each placer configuration, it is useful to\n",
      "summarize the data across all trials to evaluate the performance of the\n",
      "corresponding placer configuration.  To do so, we generate [pivot-tables][1] using [`pandas.pivot_table`][2].  The pivot-tables allow us to compute\n",
      "aggregate summary values for each of several statistics _(e.g., temperature)_\n",
      "at each outer-loop iteration.\n",
      "\n",
      "Below, we compute pivot-tables to aggregate the _mean_, _minimum_, _maximum_,\n",
      "and _standard-deviation_ of each of the following values at each outer-loop\n",
      "iteration, across all trials:\n",
      "\n",
      "  * Temperature\n",
      "  * Cost\n",
      "  * Radius-limit\n",
      "\n",
      "[1]: http://en.wikipedia.org/wiki/Pivot_table\n",
      "[2]: http://pandas.pydata.org/pandas-docs/stable/reshaping.html"
     ]
    },
    {
     "cell_type": "code",
     "collapsed": false,
     "input": [
      "# Compute the mean of each stat-of-interest _(i.e., `temperature`,\n",
      "# `radius_limit`, etc.)_ across each placement trial, indexed by\n",
      "# outer-loop iteration.  Note that the trials combined are from\n",
      "# place operations run with all parameters controlled except for\n",
      "# the `seed`.\n",
      "#\n",
      "# __NB__ This stats table provides us with a summary of results\n",
      "#   based on placing with a specific algorithm with a specific\n",
      "#   set of parameters, but with varying seed values, providing\n",
      "#   a sample of results for statistical comparison against other\n",
      "#   placers and placer configurations.\n",
      "stats_tables = {}\n",
      "\n",
      "for aggfunc in ('mean', 'min', 'max', 'std'):\n",
      "    stats = pd.pivot_table(placement_results,\n",
      "                           values=['temperature', 'mean_cost',\n",
      "                                   'radius_limit',\n",
      "                                   'total_iteration_count'],\n",
      "                           rows=['i'], aggfunc=getattr(np, aggfunc))\n",
      "    stats_tables[aggfunc] = stats"
     ],
     "language": "python",
     "metadata": {},
     "outputs": [],
     "prompt_number": 8
    },
    {
     "cell_type": "markdown",
     "metadata": {},
     "source": [
      "Given the pivot tables, we can, for example, plot the mean values of each\n",
      "stat, for each outer-loop iteration, showing the trend of each stat\n",
      "throughout the place process.\n",
      "\n",
      "__NB__ The error-bars are used to show the range of values across the trials\n",
      "at each point of the curve _(i.e., at each outer-loop iteration)_."
     ]
    },
    {
     "cell_type": "code",
     "collapsed": false,
     "input": [
      "pylab.rcParams['figure.figsize'] = (10.0, 6.0)"
     ],
     "language": "python",
     "metadata": {},
     "outputs": [],
     "prompt_number": 9
    },
    {
     "cell_type": "code",
     "collapsed": false,
     "input": [
      "title('tseng - vpr bounding box fast')\n",
      "for stat in ('temperature', 'mean_cost', 'radius_limit'):\n",
      "    mean_data = stats_tables['mean'][stat]\n",
      "    min_data = stats_tables['min'][stat]\n",
      "    max_data = stats_tables['max'][stat]\n",
      "    max_mean = mean_data.max()\n",
      "    errorbar(range(len(mean_data)), mean_data / max_mean,\n",
      "             label='%s (%s - %s)' % (stat, mean_data.min(),\n",
      "                                     max_mean),\n",
      "             yerr=((mean_data - min_data) / max_mean,\n",
      "                   (max_data - mean_data) / max_mean))\n",
      "legend()"
     ],
     "language": "python",
     "metadata": {},
     "outputs": [
      {
       "metadata": {},
       "output_type": "pyout",
       "prompt_number": 10,
       "text": [
        "<matplotlib.legend.Legend at 0x5229710>"
       ]
      },
      {
       "metadata": {},
       "output_type": "display_data",
       "png": "[encoded data removed]",
       "text": [
        "<matplotlib.figure.Figure at 0x504a3d0>"
       ]
      }
     ],
     "prompt_number": 10
    }
   ],
   "metadata": {}
  }
 ]
}