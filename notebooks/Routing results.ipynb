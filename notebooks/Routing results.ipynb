{
 "metadata": {
  "name": ""
 },
 "nbformat": 3,
 "nbformat_minor": 0,
 "worksheets": [
  {
   "cells": [
    {
     "cell_type": "heading",
     "level": 1,
     "metadata": {},
     "source": [
      "Overview"
     ]
    },
    {
     "cell_type": "markdown",
     "metadata": {},
     "source": [
      "Recall that routing results are stored in an HDF file with the following\n",
      "structure:\n",
      "\n",
      "    <net-file_namebase _(e.g., `ex5p`, `clma`, etc.)_> (Group)\n",
      "        \\--> `route_states` (Table)\n",
      "\n",
      "\n",
      "For example:\n",
      "\n",
      "                 root\n",
      "               /  |   \\\n",
      "              /   |    \\\n",
      "             /    |     \\\n",
      "            /     |      \\\n",
      "           /      |       \\\n",
      "         ex5p    clma    tseng\n",
      "          |       ...      |\n",
      "    route_states  ...   route_states\n",
      "\n",
      "\n",
      "where `ex5p`, `clma`, `tseng` in the above hierarchy represent groups\n",
      "containing `route_states` tables, which store the success/failure state, along\n",
      "with the routing settings for each routing attempt.  The details include:\n",
      "\n",
      "  * Channel-width (`width_fac`)\n",
      "  * Start/end-time\n",
      "  * Success (`True/False`)\n",
      "\n",
      "__NB__ The program [`vitables`] [1] can be used to browse the output file.\n",
      "\n",
      "[1]: http://vitables.org"
     ]
    },
    {
     "cell_type": "markdown",
     "metadata": {},
     "source": [
      "As an example, let's take a look at some routing results.\n",
      "First, we open the HDF file using the [`PyTables`] [1] Python package.\n",
      "\n",
      "[1]: https://github.com/PyTables/PyTables"
     ]
    },
    {
     "cell_type": "code",
     "collapsed": false,
     "input": [
      "from cyvpr.result.route import iter_min_channel_width_results\n",
      "import tables as ts"
     ],
     "language": "python",
     "metadata": {},
     "outputs": [],
     "prompt_number": 2
    },
    {
     "cell_type": "code",
     "collapsed": false,
     "input": [
      "h5f = ts.open_file('../routed-combined.h5', 'r')"
     ],
     "language": "python",
     "metadata": {},
     "outputs": [],
     "prompt_number": 3
    },
    {
     "cell_type": "markdown",
     "metadata": {},
     "source": [
      "Now, let's look at the groups of routing results available, where each group\n",
      "contains results corresponding to a particular net-list file, as described\n",
      "in the hierarchy overview above.  In this case, we have a group corresponding\n",
      "to each net-list file in the MCNC benchmarks."
     ]
    },
    {
     "cell_type": "code",
     "collapsed": false,
     "input": [
      "h5f.root"
     ],
     "language": "python",
     "metadata": {},
     "outputs": [
      {
       "metadata": {},
       "output_type": "pyout",
       "prompt_number": 4,
       "text": [
        "/ (RootGroup) ''\n",
        "  children := ['spla' (Group), 'diffeq' (Group), 'clma' (Group), 'ex5p' (Group), 's38584.1' (Group), 's38417' (Group), 'dsip' (Group), 'ex1010' (Group), 'des' (Group), 'seq' (Group), 'bigkey' (Group), 'apex2' (Group), 's298' (Group), 'apex4' (Group), 'elliptic' (Group), 'alu4' (Group), 'tseng' (Group), 'pdc' (Group), 'frisc' (Group), 'misex3' (Group)]"
       ]
      }
     ],
     "prompt_number": 4
    },
    {
     "cell_type": "markdown",
     "metadata": {},
     "source": [
      "Let's take a closer look at one of the groups, `tseng`.  Here we can see that\n",
      "the `tseng` group contains a single `Table`, called `route_states`, which\n",
      "matches the hierarchy diagram above."
     ]
    },
    {
     "cell_type": "code",
     "collapsed": false,
     "input": [
      "h5f.root.tseng"
     ],
     "language": "python",
     "metadata": {},
     "outputs": [
      {
       "metadata": {},
       "output_type": "pyout",
       "prompt_number": 5,
       "text": [
        "/tseng (Group) ''\n",
        "  children := ['route_states' (Table)]"
       ]
      }
     ],
     "prompt_number": 5
    },
    {
     "cell_type": "markdown",
     "metadata": {},
     "source": [
      "The `route_states` table contains the following columns:"
     ]
    },
    {
     "cell_type": "code",
     "collapsed": false,
     "input": [
      "h5f.root.tseng.route_states.cols"
     ],
     "language": "python",
     "metadata": {},
     "outputs": [
      {
       "metadata": {},
       "output_type": "pyout",
       "prompt_number": 6,
       "text": [
        "/tseng/route_states.cols (Cols), 13 columns\n",
        "  block_positions_sha1 (Column(90,), |S40)\n",
        "  success (Column(90,), bool)\n",
        "  width_fac (Column(90,), uint32)\n",
        "  critical_path_delay (Column(90,), float64)\n",
        "  total_logic_delay (Column(90,), float64)\n",
        "  total_net_delay (Column(90,), float64)\n",
        "  tnodes_on_crit_path (Column(90,), int32)\n",
        "  non_global_nets_on_crit_path (Column(90,), int32)\n",
        "  global_nets_on_crit_path (Column(90,), int32)\n",
        "  start (Column(90,), float64)\n",
        "  end (Column(90,), float64)\n",
        "  net_data (Cols(), Description)\n",
        "  router_options (Cols(), Description)\n"
       ]
      }
     ],
     "prompt_number": 6
    },
    {
     "cell_type": "markdown",
     "metadata": {},
     "source": [
      "From the list of columns, we can see that the results table includes:\n",
      "\n",
      "  * SHA1 of the block-positions used during routing (`block_positions_sha1`)\n",
      "    * __NB__ This hash corresponds to the SHA1 value that is written to the\n",
      "      placement results table by the `cyvpr.bin.place`.  By using the SHA1\n",
      "      hash, we have a concise descriptor for labelling a unique placement.\n",
      "  * Channel-width (`width_fac`)\n",
      "  * Start/end-time UNIX timestamps (`start`, `end`)\n",
      "  * Success (`True/False`)\n",
      "  * Critical-path-delay (`critical_path_delay`)\n",
      " \n",
      "along with several other routing properties."
     ]
    },
    {
     "cell_type": "markdown",
     "metadata": {},
     "source": [
      "Furthermore, detailed information about each net can be found in the\n",
      "`net_data` column, which contains the following values for each net $i$, in\n",
      "the net-list:\n",
      "\n",
      "  * The number of bends in the routed net (`bends[i]`)\n",
      "  * The wirelength of the net (`wire_length[i]`)\n",
      "  * The number of routing wire segments used to route the net (`segments[i]`)\n",
      "\n",
      "as shown below.\n",
      "\n",
      "__NB__ If a routing is not successful _(i.e., `success == False`)_, all\n",
      "  `net_data` values will be set to zero."
     ]
    },
    {
     "cell_type": "code",
     "collapsed": false,
     "input": [
      "h5f.root.tseng.route_states.cols.net_data"
     ],
     "language": "python",
     "metadata": {},
     "outputs": [
      {
       "metadata": {},
       "output_type": "pyout",
       "prompt_number": 7,
       "text": [
        "/tseng/route_states.cols.net_data (Cols), 3 columns\n",
        "  bends (Column(90, 1099), ('<u4', (1099,)))\n",
        "  wire_length (Column(90, 1099), ('<u4', (1099,)))\n",
        "  segments (Column(90, 1099), ('<u4', (1099,)))\n"
       ]
      }
     ],
     "prompt_number": 7
    },
    {
     "cell_type": "heading",
     "level": 1,
     "metadata": {},
     "source": [
      "Minimum channel-width results"
     ]
    },
    {
     "cell_type": "markdown",
     "metadata": {},
     "source": [
      "We can use the `iter_min_channel_width_results` function to extract the\n",
      "route-states corresponding to the routing that utilized the minimum\n",
      "channel-width for each placement."
     ]
    },
    {
     "cell_type": "markdown",
     "metadata": {},
     "source": [
      "For example, let's consider the routing results for the MCNC net-file,\n",
      "`tseng`."
     ]
    },
    {
     "cell_type": "code",
     "collapsed": false,
     "input": [
      "import numpy as np"
     ],
     "language": "python",
     "metadata": {},
     "outputs": [],
     "prompt_number": 8
    },
    {
     "cell_type": "code",
     "collapsed": false,
     "input": [
      "results = np.array([(d['width_fac'], d['critical_path_delay'])\n",
      "                     for d in\n",
      "                     iter_min_channel_width_results(h5f.root.tseng\n",
      "                                                    .route_states)],\n",
      "                   dtype=[('channel_width', '>i4'),\n",
      "                                ('critical_path_delay', '>f8')])\n",
      "results"
     ],
     "language": "python",
     "metadata": {},
     "outputs": [
      {
       "metadata": {},
       "output_type": "pyout",
       "prompt_number": 9,
       "text": [
        "array([(7, 7.288671355354381e-08), (9, 8.573477572326738e-08),\n",
        "       (7, 7.895125975210249e-08), (8, 8.190292533072352e-08),\n",
        "       (7, 8.022192332646227e-08), (7, 7.40300123425186e-08),\n",
        "       (7, 7.39366186053303e-08), (8, 7.890879771821346e-08),\n",
        "       (7, 8.604329337913441e-08), (8, 7.887484088087149e-08),\n",
        "       (9, 8.024740338896663e-08), (8, 8.043706856142308e-08),\n",
        "       (8, 8.223693015452227e-08), (8, 8.098324144611979e-08),\n",
        "       (7, 6.952461717446567e-08), (9, 7.987390659991433e-08),\n",
        "       (7, 7.595713924501979e-08), (7, 7.901069665194882e-08),\n",
        "       (7, 7.044726402227752e-08), (8, 9.091923658388623e-08)], \n",
        "      dtype=[('channel_width', '>i4'), ('critical_path_delay', '>f8')])"
       ]
      }
     ],
     "prompt_number": 9
    },
    {
     "cell_type": "code",
     "collapsed": false,
     "input": [
      "for label, field in ((f, results[f])\n",
      "                     for f in ('channel_width',\n",
      "                               'critical_path_delay')):\n",
      "    print label, (np.median(field), field.mean(), field.min(),\n",
      "                  field.max())"
     ],
     "language": "python",
     "metadata": {},
     "outputs": [
      {
       "output_type": "stream",
       "stream": "stdout",
       "text": [
        "channel_width (7.5, 7.6500000000000004, 7, 9)\n",
        "critical_path_delay (7.9442301625931577e-08, 7.9056433222035591e-08, 6.9524617174465675e-08, 9.0919236583886232e-08)\n"
       ]
      }
     ],
     "prompt_number": 10
    },
    {
     "cell_type": "markdown",
     "metadata": {},
     "source": [
      "In the above results, we can see that the minimum successful channel width\n",
      "ranged from 7-9, across all recorded placements for the net-file, `tseng`,\n",
      "with a median minimum routable channel-width of 7.5."
     ]
    },
    {
     "cell_type": "code",
     "collapsed": false,
     "input": [
      "def plot_field(field, title_):\n",
      "    field = field.copy()\n",
      "    field.sort()\n",
      "    title(title_)\n",
      "    padding = (field.max() - field.min()) * 0.2\n",
      "    ylim(field.min() - padding, field.max() + padding)\n",
      "    plot(field, 'bo')\n",
      "    plot([0, 20], [field.max(), field.max()], color='red',\n",
      "         linestyle='--')\n",
      "    plot([0, 20], [field.min(), field.min()], color='red',\n",
      "         linestyle='--')\n",
      "    if field.dtype.char == 'i':\n",
      "        middle = np.ceil(np.median(field))\n",
      "        middle_label = 'ceil(median)'\n",
      "    else:\n",
      "        middle = field.mean()\n",
      "        middle_label = 'mean'\n",
      "    plot([0, 20], [middle, middle], color='red')\n",
      "    annotate('max=%.2g' % field.max(), xy=(5, field.max()),  xycoords='data',\n",
      "             xytext=(+20, +10), textcoords='offset points', fontsize=16,\n",
      "             arrowprops=dict(arrowstyle=\"->\", connectionstyle=\"arc3,rad=.2\"))\n",
      "    annotate('min=%.2g' % field.min(), xy=(5, field.min()),  xycoords='data',\n",
      "             xytext=(+20, -15), textcoords='offset points', fontsize=16,\n",
      "             arrowprops=dict(arrowstyle=\"->\", connectionstyle=\"arc3,rad=-.2\"))\n",
      "    annotate('%s=%.2g' % (middle_label, middle), xy=(10, middle),  xycoords='data',\n",
      "             xytext=(+20, -15), textcoords='offset points', fontsize=16,\n",
      "             arrowprops=dict(arrowstyle=\"->\", connectionstyle=\"arc3,rad=-.2\"))\n",
      "    \n",
      "for label in ('channel_width', 'critical_path_delay'):\n",
      "    field = results[label]\n",
      "    figure()\n",
      "    plot_field(field, '[VPR place %s]\\n%s for %d '\n",
      "               'trials' % ('tseng', label, len(field)))"
     ],
     "language": "python",
     "metadata": {},
     "outputs": [
      {
       "metadata": {},
       "output_type": "display_data",
       "png": "[encoded data removed]",
       "text": [
        "<matplotlib.figure.Figure at 0x824d110>"
       ]
      },
      {
       "metadata": {},
       "output_type": "display_data",
       "png": "[encoded data removed]",
       "text": [
        "<matplotlib.figure.Figure at 0x8250d90>"
       ]
      }
     ],
     "prompt_number": 81
    },
    {
     "cell_type": "code",
     "collapsed": false,
     "input": [
      "field.dtype.char"
     ],
     "language": "python",
     "metadata": {},
     "outputs": [
      {
       "metadata": {},
       "output_type": "pyout",
       "prompt_number": 72,
       "text": [
        "'i'"
       ]
      }
     ],
     "prompt_number": 72
    },
    {
     "cell_type": "code",
     "collapsed": false,
     "input": [
      "import pandas as pd"
     ],
     "language": "python",
     "metadata": {},
     "outputs": [],
     "prompt_number": 83
    },
    {
     "cell_type": "code",
     "collapsed": false,
     "input": [
      "data_frame = pd.DataFrame(results)\n",
      "data_frame"
     ],
     "language": "python",
     "metadata": {},
     "outputs": [
      {
       "html": [
        "<div style=\"max-height:1000px;max-width:1500px;overflow:auto;\">\n",
        "<table border=\"1\" class=\"dataframe\">\n",
        "  <thead>\n",
        "    <tr style=\"text-align: right;\">\n",
        "      <th></th>\n",
        "      <th>channel_width</th>\n",
        "      <th>critical_path_delay</th>\n",
        "    </tr>\n",
        "  </thead>\n",
        "  <tbody>\n",
        "    <tr>\n",
        "      <th>0 </th>\n",
        "      <td> 7</td>\n",
        "      <td> 7.288671e-08</td>\n",
        "    </tr>\n",
        "    <tr>\n",
        "      <th>1 </th>\n",
        "      <td> 9</td>\n",
        "      <td> 8.573478e-08</td>\n",
        "    </tr>\n",
        "    <tr>\n",
        "      <th>2 </th>\n",
        "      <td> 7</td>\n",
        "      <td> 7.895126e-08</td>\n",
        "    </tr>\n",
        "    <tr>\n",
        "      <th>3 </th>\n",
        "      <td> 8</td>\n",
        "      <td> 8.190293e-08</td>\n",
        "    </tr>\n",
        "    <tr>\n",
        "      <th>4 </th>\n",
        "      <td> 7</td>\n",
        "      <td> 8.022192e-08</td>\n",
        "    </tr>\n",
        "    <tr>\n",
        "      <th>5 </th>\n",
        "      <td> 7</td>\n",
        "      <td> 7.403001e-08</td>\n",
        "    </tr>\n",
        "    <tr>\n",
        "      <th>6 </th>\n",
        "      <td> 7</td>\n",
        "      <td> 7.393662e-08</td>\n",
        "    </tr>\n",
        "    <tr>\n",
        "      <th>7 </th>\n",
        "      <td> 8</td>\n",
        "      <td> 7.890880e-08</td>\n",
        "    </tr>\n",
        "    <tr>\n",
        "      <th>8 </th>\n",
        "      <td> 7</td>\n",
        "      <td> 8.604329e-08</td>\n",
        "    </tr>\n",
        "    <tr>\n",
        "      <th>9 </th>\n",
        "      <td> 8</td>\n",
        "      <td> 7.887484e-08</td>\n",
        "    </tr>\n",
        "    <tr>\n",
        "      <th>10</th>\n",
        "      <td> 9</td>\n",
        "      <td> 8.024740e-08</td>\n",
        "    </tr>\n",
        "    <tr>\n",
        "      <th>11</th>\n",
        "      <td> 8</td>\n",
        "      <td> 8.043707e-08</td>\n",
        "    </tr>\n",
        "    <tr>\n",
        "      <th>12</th>\n",
        "      <td> 8</td>\n",
        "      <td> 8.223693e-08</td>\n",
        "    </tr>\n",
        "    <tr>\n",
        "      <th>13</th>\n",
        "      <td> 8</td>\n",
        "      <td> 8.098324e-08</td>\n",
        "    </tr>\n",
        "    <tr>\n",
        "      <th>14</th>\n",
        "      <td> 7</td>\n",
        "      <td> 6.952462e-08</td>\n",
        "    </tr>\n",
        "    <tr>\n",
        "      <th>15</th>\n",
        "      <td> 9</td>\n",
        "      <td> 7.987391e-08</td>\n",
        "    </tr>\n",
        "    <tr>\n",
        "      <th>16</th>\n",
        "      <td> 7</td>\n",
        "      <td> 7.595714e-08</td>\n",
        "    </tr>\n",
        "    <tr>\n",
        "      <th>17</th>\n",
        "      <td> 7</td>\n",
        "      <td> 7.901070e-08</td>\n",
        "    </tr>\n",
        "    <tr>\n",
        "      <th>18</th>\n",
        "      <td> 7</td>\n",
        "      <td> 7.044726e-08</td>\n",
        "    </tr>\n",
        "    <tr>\n",
        "      <th>19</th>\n",
        "      <td> 8</td>\n",
        "      <td> 9.091924e-08</td>\n",
        "    </tr>\n",
        "  </tbody>\n",
        "</table>\n",
        "</div>"
       ],
       "metadata": {},
       "output_type": "pyout",
       "prompt_number": 87,
       "text": [
        "    channel_width  critical_path_delay\n",
        "0               7         7.288671e-08\n",
        "1               9         8.573478e-08\n",
        "2               7         7.895126e-08\n",
        "3               8         8.190293e-08\n",
        "4               7         8.022192e-08\n",
        "5               7         7.403001e-08\n",
        "6               7         7.393662e-08\n",
        "7               8         7.890880e-08\n",
        "8               7         8.604329e-08\n",
        "9               8         7.887484e-08\n",
        "10              9         8.024740e-08\n",
        "11              8         8.043707e-08\n",
        "12              8         8.223693e-08\n",
        "13              8         8.098324e-08\n",
        "14              7         6.952462e-08\n",
        "15              9         7.987391e-08\n",
        "16              7         7.595714e-08\n",
        "17              7         7.901070e-08\n",
        "18              7         7.044726e-08\n",
        "19              8         9.091924e-08"
       ]
      }
     ],
     "prompt_number": 87
    },
    {
     "cell_type": "code",
     "collapsed": false,
     "input": [
      "data_frame.columns"
     ],
     "language": "python",
     "metadata": {},
     "outputs": [
      {
       "metadata": {},
       "output_type": "pyout",
       "prompt_number": 91,
       "text": [
        "Index([u'channel_width', u'critical_path_delay'], dtype=object)"
       ]
      }
     ],
     "prompt_number": 91
    },
    {
     "cell_type": "code",
     "collapsed": false,
     "input": [
      "data_frame.describe()"
     ],
     "language": "python",
     "metadata": {},
     "outputs": [
      {
       "html": [
        "<div style=\"max-height:1000px;max-width:1500px;overflow:auto;\">\n",
        "<table border=\"1\" class=\"dataframe\">\n",
        "  <thead>\n",
        "    <tr style=\"text-align: right;\">\n",
        "      <th></th>\n",
        "      <th>channel_width</th>\n",
        "      <th>critical_path_delay</th>\n",
        "    </tr>\n",
        "  </thead>\n",
        "  <tbody>\n",
        "    <tr>\n",
        "      <th>count</th>\n",
        "      <td> 20.00000</td>\n",
        "      <td> 2.000000e+01</td>\n",
        "    </tr>\n",
        "    <tr>\n",
        "      <th>mean</th>\n",
        "      <td>  7.65000</td>\n",
        "      <td> 7.905643e-08</td>\n",
        "    </tr>\n",
        "    <tr>\n",
        "      <th>std</th>\n",
        "      <td>  0.74516</td>\n",
        "      <td> 5.259649e-09</td>\n",
        "    </tr>\n",
        "    <tr>\n",
        "      <th>min</th>\n",
        "      <td>  7.00000</td>\n",
        "      <td> 6.952462e-08</td>\n",
        "    </tr>\n",
        "    <tr>\n",
        "      <th>25%</th>\n",
        "      <td>  7.00000</td>\n",
        "      <td> 7.547536e-08</td>\n",
        "    </tr>\n",
        "    <tr>\n",
        "      <th>50%</th>\n",
        "      <td>  7.50000</td>\n",
        "      <td> 7.944230e-08</td>\n",
        "    </tr>\n",
        "    <tr>\n",
        "      <th>75%</th>\n",
        "      <td>  8.00000</td>\n",
        "      <td> 8.121316e-08</td>\n",
        "    </tr>\n",
        "    <tr>\n",
        "      <th>max</th>\n",
        "      <td>  9.00000</td>\n",
        "      <td> 9.091924e-08</td>\n",
        "    </tr>\n",
        "  </tbody>\n",
        "</table>\n",
        "</div>"
       ],
       "metadata": {},
       "output_type": "pyout",
       "prompt_number": 94,
       "text": [
        "       channel_width  critical_path_delay\n",
        "count       20.00000         2.000000e+01\n",
        "mean         7.65000         7.905643e-08\n",
        "std          0.74516         5.259649e-09\n",
        "min          7.00000         6.952462e-08\n",
        "25%          7.00000         7.547536e-08\n",
        "50%          7.50000         7.944230e-08\n",
        "75%          8.00000         8.121316e-08\n",
        "max          9.00000         9.091924e-08"
       ]
      }
     ],
     "prompt_number": 94
    },
    {
     "cell_type": "code",
     "collapsed": false,
     "input": [
      "s = pd.Series(data_frame.values[:, 0])\n",
      "s.value_counts()"
     ],
     "language": "python",
     "metadata": {},
     "outputs": [
      {
       "metadata": {},
       "output_type": "pyout",
       "prompt_number": 116,
       "text": [
        "7    10\n",
        "8     7\n",
        "9     3\n",
        "dtype: int64"
       ]
      }
     ],
     "prompt_number": 116
    }
   ],
   "metadata": {}
  }
 ]
}