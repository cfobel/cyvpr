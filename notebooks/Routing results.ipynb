{
 "metadata": {
  "name": ""
 },
 "nbformat": 3,
 "nbformat_minor": 0,
 "worksheets": [
  {
   "cells": [
    {
     "cell_type": "heading",
     "level": 1,
     "metadata": {},
     "source": [
      "Table of contents"
     ]
    },
    {
     "cell_type": "markdown",
     "metadata": {},
     "source": [
      " * [Overview](#Overview)\n",
      " * [Analysis](#Analysis)\n",
      "   * [Minimum successful channel-width](#Minimum-successful-channel-width)\n",
      "   * [Maximum failed channel-width](#Maximum-failed-channel-width)"
     ]
    },
    {
     "cell_type": "heading",
     "level": 1,
     "metadata": {},
     "source": [
      "Overview"
     ]
    },
    {
     "cell_type": "markdown",
     "metadata": {},
     "source": [
      "[Back to top](#Table-of-contents) $\\cdot$\n",
      "[Next](#Analysis)"
     ]
    },
    {
     "cell_type": "markdown",
     "metadata": {},
     "source": [
      "Recall that routing results are stored in an HDF file with the following\n",
      "structure:\n",
      "\n",
      "    <net-file_namebase _(e.g., `ex5p`, `clma`, etc.)_> (Group)\n",
      "        \\--> `route_states` (Table)\n",
      "\n",
      "\n",
      "For example:\n",
      "\n",
      "                 root\n",
      "               /  |   \\\n",
      "              /   |    \\\n",
      "             /    |     \\\n",
      "            /     |      \\\n",
      "           /      |       \\\n",
      "         ex5p    clma    tseng\n",
      "          |       ...      |\n",
      "    route_states  ...   route_states\n",
      "\n",
      "\n",
      "where `ex5p`, `clma`, `tseng` in the above hierarchy represent groups\n",
      "containing `route_states` tables, which store the success/failure state, along\n",
      "with the routing settings for each routing attempt.  The details include:\n",
      "\n",
      "  * Channel-width (`width_fac`)\n",
      "  * Start/end-time\n",
      "  * Success (`True/False`)\n",
      "\n",
      "__NB__ The program [`vitables`] [1] can be used to browse the output file.\n",
      "\n",
      "[1]: http://vitables.org"
     ]
    },
    {
     "cell_type": "markdown",
     "metadata": {},
     "source": [
      "As an example, let's take a look at some routing results.\n",
      "First, we open the HDF file using the [`PyTables`] [1] Python package.\n",
      "\n",
      "[1]: https://github.com/PyTables/PyTables"
     ]
    },
    {
     "cell_type": "code",
     "collapsed": false,
     "input": [
      "from cyvpr.result.route import iter_min_channel_width_results\n",
      "import tables as ts"
     ],
     "language": "python",
     "metadata": {},
     "outputs": [],
     "prompt_number": 1
    },
    {
     "cell_type": "code",
     "collapsed": false,
     "input": [
      "h5f = ts.open_file('../routed-combined.h5', 'r')"
     ],
     "language": "python",
     "metadata": {},
     "outputs": [],
     "prompt_number": 2
    },
    {
     "cell_type": "markdown",
     "metadata": {},
     "source": [
      "Now, let's look at the groups of routing results available, where each group\n",
      "contains results corresponding to a particular net-list file, as described\n",
      "in the hierarchy overview above.  In this case, we have a group corresponding\n",
      "to each net-list file in the MCNC benchmarks."
     ]
    },
    {
     "cell_type": "code",
     "collapsed": false,
     "input": [
      "h5f.root"
     ],
     "language": "python",
     "metadata": {},
     "outputs": [
      {
       "metadata": {},
       "output_type": "pyout",
       "prompt_number": 3,
       "text": [
        "/ (RootGroup) ''\n",
        "  children := ['spla' (Group), 'diffeq' (Group), 'clma' (Group), 'ex5p' (Group), 's38584.1' (Group), 's38417' (Group), 'dsip' (Group), 'ex1010' (Group), 'des' (Group), 'seq' (Group), 'bigkey' (Group), 'apex2' (Group), 's298' (Group), 'apex4' (Group), 'elliptic' (Group), 'alu4' (Group), 'tseng' (Group), 'pdc' (Group), 'frisc' (Group), 'misex3' (Group)]"
       ]
      }
     ],
     "prompt_number": 3
    },
    {
     "cell_type": "markdown",
     "metadata": {},
     "source": [
      "Let's take a closer look at one of the groups, `tseng`.  Here we can see that\n",
      "the `tseng` group contains a single `Table`, called `route_states`, which\n",
      "matches the hierarchy diagram above."
     ]
    },
    {
     "cell_type": "code",
     "collapsed": false,
     "input": [
      "h5f.root.tseng"
     ],
     "language": "python",
     "metadata": {},
     "outputs": [
      {
       "metadata": {},
       "output_type": "pyout",
       "prompt_number": 4,
       "text": [
        "/tseng (Group) ''\n",
        "  children := ['route_states' (Table)]"
       ]
      }
     ],
     "prompt_number": 4
    },
    {
     "cell_type": "markdown",
     "metadata": {},
     "source": [
      "The `route_states` table contains the following columns:"
     ]
    },
    {
     "cell_type": "code",
     "collapsed": false,
     "input": [
      "h5f.root.tseng.route_states.cols"
     ],
     "language": "python",
     "metadata": {},
     "outputs": [
      {
       "metadata": {},
       "output_type": "pyout",
       "prompt_number": 5,
       "text": [
        "/tseng/route_states.cols (Cols), 13 columns\n",
        "  block_positions_sha1 (Column(90,), |S40)\n",
        "  success (Column(90,), bool)\n",
        "  width_fac (Column(90,), uint32)\n",
        "  critical_path_delay (Column(90,), float64)\n",
        "  total_logic_delay (Column(90,), float64)\n",
        "  total_net_delay (Column(90,), float64)\n",
        "  tnodes_on_crit_path (Column(90,), int32)\n",
        "  non_global_nets_on_crit_path (Column(90,), int32)\n",
        "  global_nets_on_crit_path (Column(90,), int32)\n",
        "  start (Column(90,), float64)\n",
        "  end (Column(90,), float64)\n",
        "  net_data (Cols(), Description)\n",
        "  router_options (Cols(), Description)\n"
       ]
      }
     ],
     "prompt_number": 5
    },
    {
     "cell_type": "markdown",
     "metadata": {},
     "source": [
      "From the list of columns, we can see that the results table includes:\n",
      "\n",
      "  * SHA1 of the block-positions used during routing (`block_positions_sha1`)\n",
      "    * __NB__ This hash corresponds to the SHA1 value that is written to the\n",
      "      placement results table by the `cyvpr.bin.place`.  By using the SHA1\n",
      "      hash, we have a concise descriptor for labelling a unique placement.\n",
      "  * Channel-width (`width_fac`)\n",
      "  * Start/end-time UNIX timestamps (`start`, `end`)\n",
      "  * Success (`True/False`)\n",
      "  * Critical-path-delay (`critical_path_delay`)\n",
      " \n",
      "along with several other routing properties."
     ]
    },
    {
     "cell_type": "markdown",
     "metadata": {},
     "source": [
      "Furthermore, detailed information about each net can be found in the\n",
      "`net_data` column, which contains the following values for each net $i$, in\n",
      "the net-list:\n",
      "\n",
      "  * The number of bends in the routed net (`bends[i]`)\n",
      "  * The wirelength of the net (`wire_length[i]`)\n",
      "  * The number of routing wire segments used to route the net (`segments[i]`)\n",
      "\n",
      "as shown below.\n",
      "\n",
      "__NB__ If a routing is not successful _(i.e., `success == False`)_, all\n",
      "  `net_data` values will be set to zero."
     ]
    },
    {
     "cell_type": "heading",
     "level": 1,
     "metadata": {},
     "source": [
      "Analysis"
     ]
    },
    {
     "cell_type": "markdown",
     "metadata": {},
     "source": [
      "[Back to top](#Table-of-contents) $\\cdot$\n",
      "[Previous](#Overview) $\\cdot$\n",
      "[Next](#Minimum-successful-channel-width)"
     ]
    },
    {
     "cell_type": "markdown",
     "metadata": {},
     "source": [
      "To help analyze the routing results from the HDF result files, we use the\n",
      "[`pandas`] [1] Python package.\n",
      "\n",
      "From the `pandas` website:\n",
      "\n",
      "> Python has long been great for data munging and preparation, but less so for data analysis and modeling. pandas helps fill this gap, enabling you to carry out your entire data analysis workflow in Python without having to switch to a more domain specific language like R.\n",
      "\n",
      "[1]: http://pandas.pydata.org/"
     ]
    },
    {
     "cell_type": "code",
     "collapsed": false,
     "input": [
      "import numpy as np\n",
      "import pandas as pd"
     ],
     "language": "python",
     "metadata": {},
     "outputs": [],
     "prompt_number": 6
    },
    {
     "cell_type": "markdown",
     "metadata": {},
     "source": [
      "In our case, we need to first load the data from our `route_states` table\n",
      "from the HDF file into a `pandas.DataFrame` instance."
     ]
    },
    {
     "cell_type": "code",
     "collapsed": false,
     "input": [
      "data = np.array([v.fetch_all_fields()\n",
      "                       for v in h5f.root.tseng.route_states],\n",
      "                      dtype=h5f.root.tseng.route_states.dtype)\n",
      "routing_results = pd.DataFrame(data)"
     ],
     "language": "python",
     "metadata": {},
     "outputs": [],
     "prompt_number": 7
    },
    {
     "cell_type": "markdown",
     "metadata": {},
     "source": [
      "At this point, `routing_results` is a `DataFrame` instance, containing all\n",
      "rows from the `h5f.root.tseng.route_states` HDF table."
     ]
    },
    {
     "cell_type": "heading",
     "level": 2,
     "metadata": {},
     "source": [
      "Minimum successful channel-width"
     ]
    },
    {
     "cell_type": "markdown",
     "metadata": {},
     "source": [
      "[Back to top](#Table-of-contents) $\\cdot$\n",
      "[Parent](#Analysis) $\\cdot$\n",
      "[Next](#Maximum-failed-channel-width)"
     ]
    },
    {
     "cell_type": "markdown",
     "metadata": {},
     "source": [
      "To evaluate the \"routability\" of a placement, it is useful to determine the\n",
      "minimum channel-width that the router was able to successfully use to route\n",
      "the placement.  We can use the `pandas.pivot_table` to extract this data from\n",
      "our routing-results data-frame, as shown below."
     ]
    },
    {
     "cell_type": "code",
     "collapsed": false,
     "input": [
      "# Pivot data-frame such that each row is indexed by the _(unique)_\n",
      "# block-positions-SHA1 for a placement, and the columns\n",
      "# of each row contain the values corresponding to the successful \n",
      "# routing with the minimum channel-width for the corresponding\n",
      "# placement.\n",
      "min_success_data = pd.pivot_table(\n",
      "               routing_results[routing_results['success'] == True],\n",
      "               values=['width_fac', 'critical_path_delay',\n",
      "                       'total_net_delay', 'total_logic_delay'],\n",
      "               rows=['block_positions_sha1'],\n",
      "               aggfunc=np.min)\n",
      "min_success_data.describe()"
     ],
     "language": "python",
     "metadata": {},
     "outputs": [
      {
       "html": [
        "<div style=\"max-height:1000px;max-width:1500px;overflow:auto;\">\n",
        "<table border=\"1\" class=\"dataframe\">\n",
        "  <thead>\n",
        "    <tr style=\"text-align: right;\">\n",
        "      <th></th>\n",
        "      <th>critical_path_delay</th>\n",
        "      <th>total_logic_delay</th>\n",
        "      <th>total_net_delay</th>\n",
        "      <th>width_fac</th>\n",
        "    </tr>\n",
        "  </thead>\n",
        "  <tbody>\n",
        "    <tr>\n",
        "      <th>count</th>\n",
        "      <td> 2.000000e+01</td>\n",
        "      <td> 2.000000e+01</td>\n",
        "      <td> 2.000000e+01</td>\n",
        "      <td> 20.00000</td>\n",
        "    </tr>\n",
        "    <tr>\n",
        "      <th>mean</th>\n",
        "      <td> 7.770512e-08</td>\n",
        "      <td> 7.574698e-09</td>\n",
        "      <td> 7.010312e-08</td>\n",
        "      <td>  7.65000</td>\n",
        "    </tr>\n",
        "    <tr>\n",
        "      <th>std</th>\n",
        "      <td> 4.306437e-09</td>\n",
        "      <td> 3.302244e-10</td>\n",
        "      <td> 4.254110e-09</td>\n",
        "      <td>  0.74516</td>\n",
        "    </tr>\n",
        "    <tr>\n",
        "      <th>min</th>\n",
        "      <td> 6.950764e-08</td>\n",
        "      <td> 6.783001e-09</td>\n",
        "      <td> 6.163265e-08</td>\n",
        "      <td>  7.00000</td>\n",
        "    </tr>\n",
        "    <tr>\n",
        "      <th>25%</th>\n",
        "      <td> 7.487824e-08</td>\n",
        "      <td> 7.328997e-09</td>\n",
        "      <td> 6.713974e-08</td>\n",
        "      <td>  7.00000</td>\n",
        "    </tr>\n",
        "    <tr>\n",
        "      <th>50%</th>\n",
        "      <td> 7.874753e-08</td>\n",
        "      <td> 7.601997e-09</td>\n",
        "      <td> 7.101682e-08</td>\n",
        "      <td>  7.50000</td>\n",
        "    </tr>\n",
        "    <tr>\n",
        "      <th>75%</th>\n",
        "      <td> 7.996728e-08</td>\n",
        "      <td> 7.874999e-09</td>\n",
        "      <td> 7.241553e-08</td>\n",
        "      <td>  8.00000</td>\n",
        "    </tr>\n",
        "    <tr>\n",
        "      <th>max</th>\n",
        "      <td> 8.622715e-08</td>\n",
        "      <td> 7.875004e-09</td>\n",
        "      <td> 7.835215e-08</td>\n",
        "      <td>  9.00000</td>\n",
        "    </tr>\n",
        "  </tbody>\n",
        "</table>\n",
        "</div>"
       ],
       "metadata": {},
       "output_type": "pyout",
       "prompt_number": 8,
       "text": [
        "       critical_path_delay  total_logic_delay  total_net_delay  width_fac\n",
        "count         2.000000e+01       2.000000e+01     2.000000e+01   20.00000\n",
        "mean          7.770512e-08       7.574698e-09     7.010312e-08    7.65000\n",
        "std           4.306437e-09       3.302244e-10     4.254110e-09    0.74516\n",
        "min           6.950764e-08       6.783001e-09     6.163265e-08    7.00000\n",
        "25%           7.487824e-08       7.328997e-09     6.713974e-08    7.00000\n",
        "50%           7.874753e-08       7.601997e-09     7.101682e-08    7.50000\n",
        "75%           7.996728e-08       7.874999e-09     7.241553e-08    8.00000\n",
        "max           8.622715e-08       7.875004e-09     7.835215e-08    9.00000"
       ]
      }
     ],
     "prompt_number": 8
    },
    {
     "cell_type": "markdown",
     "metadata": {},
     "source": [
      "In the table above, we can see a summary of the routing result of each\n",
      "placement, with each routing using the minimum channel-width that the router\n",
      "was able to successfully route with for the corresponding placement.\n",
      "\n",
      "We can note here that, depending on the placement:\n",
      "\n",
      "  * The critical-path-delay ranges from __6.95e-8 to 8.62e-8__\n",
      "  * The minimum-channel-width required ranges from __7 to 9__"
     ]
    },
    {
     "cell_type": "code",
     "collapsed": false,
     "input": [
      "min_success_data"
     ],
     "language": "python",
     "metadata": {},
     "outputs": [
      {
       "html": [
        "<div style=\"max-height:1000px;max-width:1500px;overflow:auto;\">\n",
        "<table border=\"1\" class=\"dataframe\">\n",
        "  <thead>\n",
        "    <tr style=\"text-align: right;\">\n",
        "      <th></th>\n",
        "      <th>critical_path_delay</th>\n",
        "      <th>total_logic_delay</th>\n",
        "      <th>total_net_delay</th>\n",
        "      <th>width_fac</th>\n",
        "    </tr>\n",
        "    <tr>\n",
        "      <th>block_positions_sha1</th>\n",
        "      <th></th>\n",
        "      <th></th>\n",
        "      <th></th>\n",
        "      <th></th>\n",
        "    </tr>\n",
        "  </thead>\n",
        "  <tbody>\n",
        "    <tr>\n",
        "      <th>057327e439e30b4285d4e59fb4ea5272f6314b70</th>\n",
        "      <td> 8.040310e-08</td>\n",
        "      <td> 7.329001e-09</td>\n",
        "      <td> 7.307410e-08</td>\n",
        "      <td> 8</td>\n",
        "    </tr>\n",
        "    <tr>\n",
        "      <th>0b28bcf6b0a96dc73875dd3dbb7ad3ddceec79fb</th>\n",
        "      <td> 7.809951e-08</td>\n",
        "      <td> 7.328999e-09</td>\n",
        "      <td> 7.077051e-08</td>\n",
        "      <td> 8</td>\n",
        "    </tr>\n",
        "    <tr>\n",
        "      <th>0de88f091c825eb5e287ca43d8bdf3db9be20bf4</th>\n",
        "      <td> 7.343289e-08</td>\n",
        "      <td> 7.328998e-09</td>\n",
        "      <td> 6.610389e-08</td>\n",
        "      <td> 7</td>\n",
        "    </tr>\n",
        "    <tr>\n",
        "      <th>16ed3c9f8f0bbe46b053d6b69c576bf3f28cfa9b</th>\n",
        "      <td> 8.024740e-08</td>\n",
        "      <td> 7.875004e-09</td>\n",
        "      <td> 7.237240e-08</td>\n",
        "      <td> 9</td>\n",
        "    </tr>\n",
        "    <tr>\n",
        "      <th>205b1fd4f3f49a5ec6b9374d8af1caf8d2788d0f</th>\n",
        "      <td> 6.986713e-08</td>\n",
        "      <td> 7.328996e-09</td>\n",
        "      <td> 6.253813e-08</td>\n",
        "      <td> 7</td>\n",
        "    </tr>\n",
        "    <tr>\n",
        "      <th>264d55dc7bb42a02170fd6877e158b51205b9130</th>\n",
        "      <td> 7.536002e-08</td>\n",
        "      <td> 7.875003e-09</td>\n",
        "      <td> 6.748502e-08</td>\n",
        "      <td> 7</td>\n",
        "    </tr>\n",
        "    <tr>\n",
        "      <th>282ddbe99cf94147f8b4cfd51887b8b23267122f</th>\n",
        "      <td> 7.862022e-08</td>\n",
        "      <td> 6.783001e-09</td>\n",
        "      <td> 7.129122e-08</td>\n",
        "      <td> 7</td>\n",
        "    </tr>\n",
        "    <tr>\n",
        "      <th>6e28055ab1017dfdf8f005315f48b9fc3ee5b4be</th>\n",
        "      <td> 7.962480e-08</td>\n",
        "      <td> 7.874999e-09</td>\n",
        "      <td> 7.174980e-08</td>\n",
        "      <td> 7</td>\n",
        "    </tr>\n",
        "    <tr>\n",
        "      <th>72ecee7ba79007a75a28df19cffe154f8747a762</th>\n",
        "      <td> 7.893428e-08</td>\n",
        "      <td> 7.874999e-09</td>\n",
        "      <td> 7.105928e-08</td>\n",
        "      <td> 7</td>\n",
        "    </tr>\n",
        "    <tr>\n",
        "      <th>7fb68c0c20e0ec0bfa0ad05d241f4e96b97dc451</th>\n",
        "      <td> 7.887484e-08</td>\n",
        "      <td> 7.874999e-09</td>\n",
        "      <td> 7.099985e-08</td>\n",
        "      <td> 8</td>\n",
        "    </tr>\n",
        "    <tr>\n",
        "      <th>812a70608e3587bbaf80ecdba2d490edcc9b9d5b</th>\n",
        "      <td> 7.745992e-08</td>\n",
        "      <td> 7.328995e-09</td>\n",
        "      <td> 7.013093e-08</td>\n",
        "      <td> 8</td>\n",
        "    </tr>\n",
        "    <tr>\n",
        "      <th>84065cd19a33a4f03b3d7e4467eec07bc714a00d</th>\n",
        "      <td> 7.987391e-08</td>\n",
        "      <td> 7.328997e-09</td>\n",
        "      <td> 7.254491e-08</td>\n",
        "      <td> 9</td>\n",
        "    </tr>\n",
        "    <tr>\n",
        "      <th>842fcf97b5fd43cd8bdb5c4fb83c2c6175538b7f</th>\n",
        "      <td> 7.287822e-08</td>\n",
        "      <td> 7.328993e-09</td>\n",
        "      <td> 6.554923e-08</td>\n",
        "      <td> 7</td>\n",
        "    </tr>\n",
        "    <tr>\n",
        "      <th>8a27a97889dd38695b85a191ac71b23831bdd9e1</th>\n",
        "      <td> 7.890880e-08</td>\n",
        "      <td> 7.874999e-09</td>\n",
        "      <td> 7.103380e-08</td>\n",
        "      <td> 8</td>\n",
        "    </tr>\n",
        "    <tr>\n",
        "      <th>8ec99664a90fdf996aa574e8dc9faaec33960fc1</th>\n",
        "      <td> 7.333100e-08</td>\n",
        "      <td> 7.328995e-09</td>\n",
        "      <td> 6.600200e-08</td>\n",
        "      <td> 7</td>\n",
        "    </tr>\n",
        "    <tr>\n",
        "      <th>934df8af652c36b8e74ec69b096624831fbbf05b</th>\n",
        "      <td> 7.663068e-08</td>\n",
        "      <td> 7.874996e-09</td>\n",
        "      <td> 6.875568e-08</td>\n",
        "      <td> 7</td>\n",
        "    </tr>\n",
        "    <tr>\n",
        "      <th>9bf625af94bd93999f2c1906e6b9c72323a526d3</th>\n",
        "      <td> 8.622715e-08</td>\n",
        "      <td> 7.874997e-09</td>\n",
        "      <td> 7.835215e-08</td>\n",
        "      <td> 8</td>\n",
        "    </tr>\n",
        "    <tr>\n",
        "      <th>b8f949feb43b81a2f5810d9bb4c9ee5ca24f0894</th>\n",
        "      <td> 8.392642e-08</td>\n",
        "      <td> 7.328997e-09</td>\n",
        "      <td> 7.659742e-08</td>\n",
        "      <td> 9</td>\n",
        "    </tr>\n",
        "    <tr>\n",
        "      <th>bfa5ff0a7941361b0301e3de8b4c0d5d1bfc388e</th>\n",
        "      <td> 8.189443e-08</td>\n",
        "      <td> 7.875004e-09</td>\n",
        "      <td> 7.401943e-08</td>\n",
        "      <td> 8</td>\n",
        "    </tr>\n",
        "    <tr>\n",
        "      <th>e8edf4cdc3ec2f8438052d9bb950efb4a7297db7</th>\n",
        "      <td> 6.950764e-08</td>\n",
        "      <td> 7.874993e-09</td>\n",
        "      <td> 6.163265e-08</td>\n",
        "      <td> 7</td>\n",
        "    </tr>\n",
        "  </tbody>\n",
        "</table>\n",
        "</div>"
       ],
       "metadata": {},
       "output_type": "pyout",
       "prompt_number": 9,
       "text": [
        "                                          critical_path_delay  \\\n",
        "block_positions_sha1                                            \n",
        "057327e439e30b4285d4e59fb4ea5272f6314b70         8.040310e-08   \n",
        "0b28bcf6b0a96dc73875dd3dbb7ad3ddceec79fb         7.809951e-08   \n",
        "0de88f091c825eb5e287ca43d8bdf3db9be20bf4         7.343289e-08   \n",
        "16ed3c9f8f0bbe46b053d6b69c576bf3f28cfa9b         8.024740e-08   \n",
        "205b1fd4f3f49a5ec6b9374d8af1caf8d2788d0f         6.986713e-08   \n",
        "264d55dc7bb42a02170fd6877e158b51205b9130         7.536002e-08   \n",
        "282ddbe99cf94147f8b4cfd51887b8b23267122f         7.862022e-08   \n",
        "6e28055ab1017dfdf8f005315f48b9fc3ee5b4be         7.962480e-08   \n",
        "72ecee7ba79007a75a28df19cffe154f8747a762         7.893428e-08   \n",
        "7fb68c0c20e0ec0bfa0ad05d241f4e96b97dc451         7.887484e-08   \n",
        "812a70608e3587bbaf80ecdba2d490edcc9b9d5b         7.745992e-08   \n",
        "84065cd19a33a4f03b3d7e4467eec07bc714a00d         7.987391e-08   \n",
        "842fcf97b5fd43cd8bdb5c4fb83c2c6175538b7f         7.287822e-08   \n",
        "8a27a97889dd38695b85a191ac71b23831bdd9e1         7.890880e-08   \n",
        "8ec99664a90fdf996aa574e8dc9faaec33960fc1         7.333100e-08   \n",
        "934df8af652c36b8e74ec69b096624831fbbf05b         7.663068e-08   \n",
        "9bf625af94bd93999f2c1906e6b9c72323a526d3         8.622715e-08   \n",
        "b8f949feb43b81a2f5810d9bb4c9ee5ca24f0894         8.392642e-08   \n",
        "bfa5ff0a7941361b0301e3de8b4c0d5d1bfc388e         8.189443e-08   \n",
        "e8edf4cdc3ec2f8438052d9bb950efb4a7297db7         6.950764e-08   \n",
        "\n",
        "                                          total_logic_delay  total_net_delay  \\\n",
        "block_positions_sha1                                                           \n",
        "057327e439e30b4285d4e59fb4ea5272f6314b70       7.329001e-09     7.307410e-08   \n",
        "0b28bcf6b0a96dc73875dd3dbb7ad3ddceec79fb       7.328999e-09     7.077051e-08   \n",
        "0de88f091c825eb5e287ca43d8bdf3db9be20bf4       7.328998e-09     6.610389e-08   \n",
        "16ed3c9f8f0bbe46b053d6b69c576bf3f28cfa9b       7.875004e-09     7.237240e-08   \n",
        "205b1fd4f3f49a5ec6b9374d8af1caf8d2788d0f       7.328996e-09     6.253813e-08   \n",
        "264d55dc7bb42a02170fd6877e158b51205b9130       7.875003e-09     6.748502e-08   \n",
        "282ddbe99cf94147f8b4cfd51887b8b23267122f       6.783001e-09     7.129122e-08   \n",
        "6e28055ab1017dfdf8f005315f48b9fc3ee5b4be       7.874999e-09     7.174980e-08   \n",
        "72ecee7ba79007a75a28df19cffe154f8747a762       7.874999e-09     7.105928e-08   \n",
        "7fb68c0c20e0ec0bfa0ad05d241f4e96b97dc451       7.874999e-09     7.099985e-08   \n",
        "812a70608e3587bbaf80ecdba2d490edcc9b9d5b       7.328995e-09     7.013093e-08   \n",
        "84065cd19a33a4f03b3d7e4467eec07bc714a00d       7.328997e-09     7.254491e-08   \n",
        "842fcf97b5fd43cd8bdb5c4fb83c2c6175538b7f       7.328993e-09     6.554923e-08   \n",
        "8a27a97889dd38695b85a191ac71b23831bdd9e1       7.874999e-09     7.103380e-08   \n",
        "8ec99664a90fdf996aa574e8dc9faaec33960fc1       7.328995e-09     6.600200e-08   \n",
        "934df8af652c36b8e74ec69b096624831fbbf05b       7.874996e-09     6.875568e-08   \n",
        "9bf625af94bd93999f2c1906e6b9c72323a526d3       7.874997e-09     7.835215e-08   \n",
        "b8f949feb43b81a2f5810d9bb4c9ee5ca24f0894       7.328997e-09     7.659742e-08   \n",
        "bfa5ff0a7941361b0301e3de8b4c0d5d1bfc388e       7.875004e-09     7.401943e-08   \n",
        "e8edf4cdc3ec2f8438052d9bb950efb4a7297db7       7.874993e-09     6.163265e-08   \n",
        "\n",
        "                                          width_fac  \n",
        "block_positions_sha1                                 \n",
        "057327e439e30b4285d4e59fb4ea5272f6314b70          8  \n",
        "0b28bcf6b0a96dc73875dd3dbb7ad3ddceec79fb          8  \n",
        "0de88f091c825eb5e287ca43d8bdf3db9be20bf4          7  \n",
        "16ed3c9f8f0bbe46b053d6b69c576bf3f28cfa9b          9  \n",
        "205b1fd4f3f49a5ec6b9374d8af1caf8d2788d0f          7  \n",
        "264d55dc7bb42a02170fd6877e158b51205b9130          7  \n",
        "282ddbe99cf94147f8b4cfd51887b8b23267122f          7  \n",
        "6e28055ab1017dfdf8f005315f48b9fc3ee5b4be          7  \n",
        "72ecee7ba79007a75a28df19cffe154f8747a762          7  \n",
        "7fb68c0c20e0ec0bfa0ad05d241f4e96b97dc451          8  \n",
        "812a70608e3587bbaf80ecdba2d490edcc9b9d5b          8  \n",
        "84065cd19a33a4f03b3d7e4467eec07bc714a00d          9  \n",
        "842fcf97b5fd43cd8bdb5c4fb83c2c6175538b7f          7  \n",
        "8a27a97889dd38695b85a191ac71b23831bdd9e1          8  \n",
        "8ec99664a90fdf996aa574e8dc9faaec33960fc1          7  \n",
        "934df8af652c36b8e74ec69b096624831fbbf05b          7  \n",
        "9bf625af94bd93999f2c1906e6b9c72323a526d3          8  \n",
        "b8f949feb43b81a2f5810d9bb4c9ee5ca24f0894          9  \n",
        "bfa5ff0a7941361b0301e3de8b4c0d5d1bfc388e          8  \n",
        "e8edf4cdc3ec2f8438052d9bb950efb4a7297db7          7  "
       ]
      }
     ],
     "prompt_number": 9
    },
    {
     "cell_type": "heading",
     "level": 2,
     "metadata": {},
     "source": [
      "Maximum failed channel-width"
     ]
    },
    {
     "cell_type": "markdown",
     "metadata": {},
     "source": [
      "[Back to top](#Table-of-contents) $\\cdot$\n",
      "[Previous](#Minimum-successful-channel-width) $\\cdot$\n",
      "[Parent](#Analysis)"
     ]
    },
    {
     "cell_type": "markdown",
     "metadata": {},
     "source": [
      "For VPR to determine the minimum channel-width, routing is attempted at\n",
      "decreasing channel-width values until routing fails.  We can verify this by\n",
      "looking up the maximum channel-width for routing each placement where routing\n",
      "failed.  This is done in a similar way to how we queried the minimum channel-width for successful routing, using the `pandas.pivot_table` function."
     ]
    },
    {
     "cell_type": "code",
     "collapsed": false,
     "input": [
      "# Repeat, but for the _unsuccessful_ routing with the maximum\n",
      "# channel-width for each placement.\n",
      "max_failed_data = pd.pivot_table(\n",
      "               routing_results[routing_results['success'] == False],\n",
      "               values=['width_fac'],\n",
      "               rows=['block_positions_sha1'],\n",
      "               aggfunc=np.max)\n",
      "max_failed_data.describe()"
     ],
     "language": "python",
     "metadata": {},
     "outputs": [
      {
       "html": [
        "<div style=\"max-height:1000px;max-width:1500px;overflow:auto;\">\n",
        "<table border=\"1\" class=\"dataframe\">\n",
        "  <thead>\n",
        "    <tr style=\"text-align: right;\">\n",
        "      <th></th>\n",
        "      <th>width_fac</th>\n",
        "    </tr>\n",
        "  </thead>\n",
        "  <tbody>\n",
        "    <tr>\n",
        "      <th>count</th>\n",
        "      <td> 20.00000</td>\n",
        "    </tr>\n",
        "    <tr>\n",
        "      <th>mean</th>\n",
        "      <td>  6.65000</td>\n",
        "    </tr>\n",
        "    <tr>\n",
        "      <th>std</th>\n",
        "      <td>  0.74516</td>\n",
        "    </tr>\n",
        "    <tr>\n",
        "      <th>min</th>\n",
        "      <td>  6.00000</td>\n",
        "    </tr>\n",
        "    <tr>\n",
        "      <th>25%</th>\n",
        "      <td>  6.00000</td>\n",
        "    </tr>\n",
        "    <tr>\n",
        "      <th>50%</th>\n",
        "      <td>  6.50000</td>\n",
        "    </tr>\n",
        "    <tr>\n",
        "      <th>75%</th>\n",
        "      <td>  7.00000</td>\n",
        "    </tr>\n",
        "    <tr>\n",
        "      <th>max</th>\n",
        "      <td>  8.00000</td>\n",
        "    </tr>\n",
        "  </tbody>\n",
        "</table>\n",
        "</div>"
       ],
       "metadata": {},
       "output_type": "pyout",
       "prompt_number": 10,
       "text": [
        "       width_fac\n",
        "count   20.00000\n",
        "mean     6.65000\n",
        "std      0.74516\n",
        "min      6.00000\n",
        "25%      6.00000\n",
        "50%      6.50000\n",
        "75%      7.00000\n",
        "max      8.00000"
       ]
      }
     ],
     "prompt_number": 10
    },
    {
     "cell_type": "code",
     "collapsed": false,
     "input": [
      "max_failed_data"
     ],
     "language": "python",
     "metadata": {},
     "outputs": [
      {
       "html": [
        "<div style=\"max-height:1000px;max-width:1500px;overflow:auto;\">\n",
        "<table border=\"1\" class=\"dataframe\">\n",
        "  <thead>\n",
        "    <tr style=\"text-align: right;\">\n",
        "      <th></th>\n",
        "      <th>width_fac</th>\n",
        "    </tr>\n",
        "    <tr>\n",
        "      <th>block_positions_sha1</th>\n",
        "      <th></th>\n",
        "    </tr>\n",
        "  </thead>\n",
        "  <tbody>\n",
        "    <tr>\n",
        "      <th>057327e439e30b4285d4e59fb4ea5272f6314b70</th>\n",
        "      <td> 7</td>\n",
        "    </tr>\n",
        "    <tr>\n",
        "      <th>0b28bcf6b0a96dc73875dd3dbb7ad3ddceec79fb</th>\n",
        "      <td> 7</td>\n",
        "    </tr>\n",
        "    <tr>\n",
        "      <th>0de88f091c825eb5e287ca43d8bdf3db9be20bf4</th>\n",
        "      <td> 6</td>\n",
        "    </tr>\n",
        "    <tr>\n",
        "      <th>16ed3c9f8f0bbe46b053d6b69c576bf3f28cfa9b</th>\n",
        "      <td> 8</td>\n",
        "    </tr>\n",
        "    <tr>\n",
        "      <th>205b1fd4f3f49a5ec6b9374d8af1caf8d2788d0f</th>\n",
        "      <td> 6</td>\n",
        "    </tr>\n",
        "    <tr>\n",
        "      <th>264d55dc7bb42a02170fd6877e158b51205b9130</th>\n",
        "      <td> 6</td>\n",
        "    </tr>\n",
        "    <tr>\n",
        "      <th>282ddbe99cf94147f8b4cfd51887b8b23267122f</th>\n",
        "      <td> 6</td>\n",
        "    </tr>\n",
        "    <tr>\n",
        "      <th>6e28055ab1017dfdf8f005315f48b9fc3ee5b4be</th>\n",
        "      <td> 6</td>\n",
        "    </tr>\n",
        "    <tr>\n",
        "      <th>72ecee7ba79007a75a28df19cffe154f8747a762</th>\n",
        "      <td> 6</td>\n",
        "    </tr>\n",
        "    <tr>\n",
        "      <th>7fb68c0c20e0ec0bfa0ad05d241f4e96b97dc451</th>\n",
        "      <td> 7</td>\n",
        "    </tr>\n",
        "    <tr>\n",
        "      <th>812a70608e3587bbaf80ecdba2d490edcc9b9d5b</th>\n",
        "      <td> 7</td>\n",
        "    </tr>\n",
        "    <tr>\n",
        "      <th>84065cd19a33a4f03b3d7e4467eec07bc714a00d</th>\n",
        "      <td> 8</td>\n",
        "    </tr>\n",
        "    <tr>\n",
        "      <th>842fcf97b5fd43cd8bdb5c4fb83c2c6175538b7f</th>\n",
        "      <td> 6</td>\n",
        "    </tr>\n",
        "    <tr>\n",
        "      <th>8a27a97889dd38695b85a191ac71b23831bdd9e1</th>\n",
        "      <td> 7</td>\n",
        "    </tr>\n",
        "    <tr>\n",
        "      <th>8ec99664a90fdf996aa574e8dc9faaec33960fc1</th>\n",
        "      <td> 6</td>\n",
        "    </tr>\n",
        "    <tr>\n",
        "      <th>934df8af652c36b8e74ec69b096624831fbbf05b</th>\n",
        "      <td> 6</td>\n",
        "    </tr>\n",
        "    <tr>\n",
        "      <th>9bf625af94bd93999f2c1906e6b9c72323a526d3</th>\n",
        "      <td> 7</td>\n",
        "    </tr>\n",
        "    <tr>\n",
        "      <th>b8f949feb43b81a2f5810d9bb4c9ee5ca24f0894</th>\n",
        "      <td> 8</td>\n",
        "    </tr>\n",
        "    <tr>\n",
        "      <th>bfa5ff0a7941361b0301e3de8b4c0d5d1bfc388e</th>\n",
        "      <td> 7</td>\n",
        "    </tr>\n",
        "    <tr>\n",
        "      <th>e8edf4cdc3ec2f8438052d9bb950efb4a7297db7</th>\n",
        "      <td> 6</td>\n",
        "    </tr>\n",
        "  </tbody>\n",
        "</table>\n",
        "</div>"
       ],
       "metadata": {},
       "output_type": "pyout",
       "prompt_number": 11,
       "text": [
        "                                          width_fac\n",
        "block_positions_sha1                               \n",
        "057327e439e30b4285d4e59fb4ea5272f6314b70          7\n",
        "0b28bcf6b0a96dc73875dd3dbb7ad3ddceec79fb          7\n",
        "0de88f091c825eb5e287ca43d8bdf3db9be20bf4          6\n",
        "16ed3c9f8f0bbe46b053d6b69c576bf3f28cfa9b          8\n",
        "205b1fd4f3f49a5ec6b9374d8af1caf8d2788d0f          6\n",
        "264d55dc7bb42a02170fd6877e158b51205b9130          6\n",
        "282ddbe99cf94147f8b4cfd51887b8b23267122f          6\n",
        "6e28055ab1017dfdf8f005315f48b9fc3ee5b4be          6\n",
        "72ecee7ba79007a75a28df19cffe154f8747a762          6\n",
        "7fb68c0c20e0ec0bfa0ad05d241f4e96b97dc451          7\n",
        "812a70608e3587bbaf80ecdba2d490edcc9b9d5b          7\n",
        "84065cd19a33a4f03b3d7e4467eec07bc714a00d          8\n",
        "842fcf97b5fd43cd8bdb5c4fb83c2c6175538b7f          6\n",
        "8a27a97889dd38695b85a191ac71b23831bdd9e1          7\n",
        "8ec99664a90fdf996aa574e8dc9faaec33960fc1          6\n",
        "934df8af652c36b8e74ec69b096624831fbbf05b          6\n",
        "9bf625af94bd93999f2c1906e6b9c72323a526d3          7\n",
        "b8f949feb43b81a2f5810d9bb4c9ee5ca24f0894          8\n",
        "bfa5ff0a7941361b0301e3de8b4c0d5d1bfc388e          7\n",
        "e8edf4cdc3ec2f8438052d9bb950efb4a7297db7          6"
       ]
      }
     ],
     "prompt_number": 11
    },
    {
     "cell_type": "markdown",
     "metadata": {},
     "source": [
      "From the two tables above, we can see the maximum channel-width that resulted\n",
      "in a failed routing for each placement.  If the minimum channel-width is\n",
      "correct, then there should be a difference of _exactly 1_ between the\n",
      "minimum successful channel-width and the maximum failed channel-width.\n",
      "Otherwise, at least one of the values _(i.e., minimum successful or maximum failed)_ must be incorrect.\n",
      "\n",
      "However, as shown below, the difference between the minimum successful channel-width and the maximum failed channel-width is exactly one for each\n",
      "placement."
     ]
    },
    {
     "cell_type": "code",
     "collapsed": false,
     "input": [
      "min_success_data['width_fac'] - max_failed_data['width_fac']"
     ],
     "language": "python",
     "metadata": {},
     "outputs": [
      {
       "metadata": {},
       "output_type": "pyout",
       "prompt_number": 12,
       "text": [
        "block_positions_sha1\n",
        "057327e439e30b4285d4e59fb4ea5272f6314b70    1\n",
        "0b28bcf6b0a96dc73875dd3dbb7ad3ddceec79fb    1\n",
        "0de88f091c825eb5e287ca43d8bdf3db9be20bf4    1\n",
        "16ed3c9f8f0bbe46b053d6b69c576bf3f28cfa9b    1\n",
        "205b1fd4f3f49a5ec6b9374d8af1caf8d2788d0f    1\n",
        "264d55dc7bb42a02170fd6877e158b51205b9130    1\n",
        "282ddbe99cf94147f8b4cfd51887b8b23267122f    1\n",
        "6e28055ab1017dfdf8f005315f48b9fc3ee5b4be    1\n",
        "72ecee7ba79007a75a28df19cffe154f8747a762    1\n",
        "7fb68c0c20e0ec0bfa0ad05d241f4e96b97dc451    1\n",
        "812a70608e3587bbaf80ecdba2d490edcc9b9d5b    1\n",
        "84065cd19a33a4f03b3d7e4467eec07bc714a00d    1\n",
        "842fcf97b5fd43cd8bdb5c4fb83c2c6175538b7f    1\n",
        "8a27a97889dd38695b85a191ac71b23831bdd9e1    1\n",
        "8ec99664a90fdf996aa574e8dc9faaec33960fc1    1\n",
        "934df8af652c36b8e74ec69b096624831fbbf05b    1\n",
        "9bf625af94bd93999f2c1906e6b9c72323a526d3    1\n",
        "b8f949feb43b81a2f5810d9bb4c9ee5ca24f0894    1\n",
        "bfa5ff0a7941361b0301e3de8b4c0d5d1bfc388e    1\n",
        "e8edf4cdc3ec2f8438052d9bb950efb4a7297db7    1\n",
        "Name: width_fac, dtype: uint32"
       ]
      }
     ],
     "prompt_number": 12
    },
    {
     "cell_type": "heading",
     "level": 2,
     "metadata": {},
     "source": [
      "Find missing routing attempts"
     ]
    },
    {
     "cell_type": "markdown",
     "metadata": {},
     "source": [
      "As illustrated previously, the minimum channel-width required to successfully\n",
      "route a netlist can vary by placement of the blocks in the netlist.\n",
      "However, since there are objectives other than channel-width, it is useful to\n",
      "route most _(if not all)_ placements using the same channel-width to allow\n",
      "comparison of other resultant routing properties, such as\n",
      "_critical-path-delay_.  To do so, it would be nice to attempt to route every placement for all channel-widths where at least one placement can be\n",
      "successfully routed, but at least one placement fails to route.  Once the\n",
      "highest such channel-width is found, all placements should be routed at a\n",
      "channel-width of one higher, such that there is at least one channel-width\n",
      "for which we have a successful routing for all placements.\n",
      "\n",
      "__NB__ As alluded to in the VPR source code, it is possible _(but unlikely)_\n",
      "for a placement to successfully route using one channel-width, but be unable\n",
      "to route using a particular higher channel-width due to fluke behaviour in\n",
      "the routing algorithm.  For now, we'll assume this won't happen until it\n",
      "presents itself as an issue."
     ]
    },
    {
     "cell_type": "markdown",
     "metadata": {},
     "source": [
      "Since the VPR router performs a binary search to find the minimum\n",
      "channel-width required to successfully route each placement, it is possible\n",
      "that many of the routings that we would like perform have already been done.\n",
      "Therefore, we can use the code below to query which routing tasks still need\n",
      "to be performed to retrieve the results that we have described in this\n",
      "section.\n",
      "\n",
      "On lines 1 and 2, we find the minimum and maximum channel-width values that\n",
      "were the minimum required channel-widths to successfully route each\n",
      "placement.  On lines 4-8, we construct a pivot table, indexed by placement\n",
      "SHA1 hash, where each column indicates whether or not the routing\n",
      "corresponding to the column's channel-width value was successful.  In the\n",
      "case where no result is available for a placement/channel-width combination,\n",
      "a value of `NaN` is used.  Therefore, we use the test on line 9, which\n",
      "evaluates to `False` for `NaN`, to determine which placement/channel-width\n",
      "combinations lack results.  These combinations are then listed using lines\n",
      "10 and 11."
     ]
    },
    {
     "cell_type": "code",
     "collapsed": false,
     "input": [
      "c_min = min_success_data['width_fac'].min()\n",
      "c_max = min_success_data['width_fac'].max()\n",
      "r = routing_results\n",
      "test = (r[(r['width_fac'] >= c_min)\n",
      "          & (r['width_fac'] <= c_max)]\n",
      "        .pivot(index='block_positions_sha1',\n",
      "               columns='width_fac',\n",
      "               values='success'))\n",
      "missing_indices = np.where(test != test)\n",
      "[(test.index[i[0]], test.columns[i[1]])\n",
      " for i in zip(*missing_indices)]"
     ],
     "language": "python",
     "metadata": {},
     "outputs": [
      {
       "metadata": {},
       "output_type": "pyout",
       "prompt_number": 57,
       "text": [
        "[('0de88f091c825eb5e287ca43d8bdf3db9be20bf4', 8),\n",
        " ('205b1fd4f3f49a5ec6b9374d8af1caf8d2788d0f', 8),\n",
        " ('264d55dc7bb42a02170fd6877e158b51205b9130', 8),\n",
        " ('282ddbe99cf94147f8b4cfd51887b8b23267122f', 8),\n",
        " ('6e28055ab1017dfdf8f005315f48b9fc3ee5b4be', 8),\n",
        " ('72ecee7ba79007a75a28df19cffe154f8747a762', 8),\n",
        " ('842fcf97b5fd43cd8bdb5c4fb83c2c6175538b7f', 8),\n",
        " ('8ec99664a90fdf996aa574e8dc9faaec33960fc1', 8),\n",
        " ('934df8af652c36b8e74ec69b096624831fbbf05b', 8),\n",
        " ('e8edf4cdc3ec2f8438052d9bb950efb4a7297db7', 8)]"
       ]
      }
     ],
     "prompt_number": 57
    },
    {
     "cell_type": "markdown",
     "metadata": {},
     "source": [
      "In this case, it turns out that all missing results are for routing\n",
      "placements using a channel-width of 8."
     ]
    }
   ],
   "metadata": {}
  }
 ]
}