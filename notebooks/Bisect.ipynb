{
 "metadata": {
  "name": ""
 },
 "nbformat": 3,
 "nbformat_minor": 0,
 "worksheets": [
  {
   "cells": [
    {
     "cell_type": "code",
     "collapsed": false,
     "input": [
      "from cyvpr.bisect import BisectBase"
     ],
     "language": "python",
     "metadata": {},
     "outputs": [],
     "prompt_number": 1
    },
    {
     "cell_type": "code",
     "collapsed": false,
     "input": [
      "class Bisect10to15(BisectBase):\n",
      "    def evaluate(self, value):\n",
      "        result = (value >= 10 and value <= 15)\n",
      "        print '[evaluate] %s -> %s' % (value, result)\n",
      "        return result"
     ],
     "language": "python",
     "metadata": {},
     "outputs": [],
     "prompt_number": 2
    },
    {
     "cell_type": "code",
     "collapsed": false,
     "input": [
      "b = Bisect10to15()"
     ],
     "language": "python",
     "metadata": {},
     "outputs": [],
     "prompt_number": 3
    },
    {
     "cell_type": "code",
     "collapsed": false,
     "input": [
      "try:\n",
      "    b.start(35)\n",
      "except IndexError:\n",
      "    print ('This error is expected, since our bisect method will '\n",
      "           'continue to increase the variable term until success '\n",
      "           'occurs.  However, in our case, if we only increase from'\n",
      "           ' 35, we will never reach our target range of '\n",
      "           ' `10 <= x <= 15`')"
     ],
     "language": "python",
     "metadata": {},
     "outputs": [
      {
       "output_type": "stream",
       "stream": "stdout",
       "text": [
        "[evaluate] 35 -> False\n",
        "[evaluate] 70 -> False\n",
        "[evaluate] 140 -> False\n",
        "[evaluate] 280 -> False\n",
        "[evaluate] 560 -> False\n",
        "[evaluate] 1120 -> False\n",
        "[evaluate] 2240 -> False\n",
        "[evaluate] 4480 -> False\n",
        "[evaluate] 8960 -> False\n",
        "This error is expected, since our bisect method will continue to increase the variable term until success occurs.  However, in our case, if we only increase from 35, we will never reach our target range of  `10 <= x <= 15`\n"
       ]
      }
     ],
     "prompt_number": 4
    },
    {
     "cell_type": "markdown",
     "metadata": {},
     "source": [
      "If we select a starting value of `5`, we arrive at a final value of `10`, as\n",
      "expected."
     ]
    },
    {
     "cell_type": "code",
     "collapsed": false,
     "input": [
      "b.start(5)"
     ],
     "language": "python",
     "metadata": {},
     "outputs": [
      {
       "output_type": "stream",
       "stream": "stdout",
       "text": [
        "[evaluate] 5 -> False\n",
        "[evaluate] 10 -> True\n",
        "[evaluate] 7 -> False\n",
        "[evaluate] 8 -> False\n",
        "[evaluate] 9 -> False\n"
       ]
      },
      {
       "metadata": {},
       "output_type": "pyout",
       "prompt_number": 5,
       "text": [
        "10"
       ]
      }
     ],
     "prompt_number": 5
    }
   ],
   "metadata": {}
  }
 ]
}