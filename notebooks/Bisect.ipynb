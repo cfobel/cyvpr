{
 "metadata": {
  "name": ""
 },
 "nbformat": 3,
 "nbformat_minor": 0,
 "worksheets": [
  {
   "cells": [
    {
     "cell_type": "code",
     "collapsed": false,
     "input": [
      "from cyvpr.bisect import BinaryLeftBisect, BinaryRightBisect"
     ],
     "language": "python",
     "metadata": {},
     "outputs": [],
     "prompt_number": 47
    },
    {
     "cell_type": "code",
     "collapsed": false,
     "input": [
      "b = BisectLowerBound(13)"
     ],
     "language": "python",
     "metadata": {},
     "outputs": [],
     "prompt_number": 27
    },
    {
     "cell_type": "code",
     "collapsed": false,
     "input": [
      "b.start(1)"
     ],
     "language": "python",
     "metadata": {},
     "outputs": [
      {
       "output_type": "stream",
       "stream": "stdout",
       "text": [
        "[evaluate] 1 -> False\n",
        "[evaluate] 2 -> False\n",
        "[evaluate] 4 -> False\n",
        "[evaluate] 8 -> False\n",
        "[evaluate] 16 -> True\n",
        "[evaluate] 12 -> False\n",
        "[evaluate] 14 -> True\n",
        "[evaluate] 13 -> True\n"
       ]
      },
      {
       "metadata": {},
       "output_type": "pyout",
       "prompt_number": 28,
       "text": [
        "13"
       ]
      }
     ],
     "prompt_number": 28
    },
    {
     "cell_type": "code",
     "collapsed": false,
     "input": [
      "b.start(4)"
     ],
     "language": "python",
     "metadata": {},
     "outputs": [
      {
       "output_type": "stream",
       "stream": "stdout",
       "text": [
        "[evaluate] 4 -> False\n",
        "[evaluate] 8 -> False\n",
        "[evaluate] 16 -> True\n",
        "[evaluate] 12 -> False\n",
        "[evaluate] 14 -> True\n",
        "[evaluate] 13 -> True\n"
       ]
      },
      {
       "metadata": {},
       "output_type": "pyout",
       "prompt_number": 29,
       "text": [
        "13"
       ]
      }
     ],
     "prompt_number": 29
    },
    {
     "cell_type": "markdown",
     "metadata": {},
     "source": [
      "If we select a starting value of `5`, we arrive at a final value of `10`, as\n",
      "expected."
     ]
    },
    {
     "cell_type": "code",
     "collapsed": false,
     "input": [
      "b.start(43)"
     ],
     "language": "python",
     "metadata": {},
     "outputs": [
      {
       "output_type": "stream",
       "stream": "stdout",
       "text": [
        "[evaluate] 43 -> True\n",
        "[evaluate] 21 -> True\n",
        "[evaluate] 10 -> False\n",
        "[evaluate] 15 -> True\n",
        "[evaluate] 12 -> False\n",
        "[evaluate] 13 -> True\n"
       ]
      },
      {
       "metadata": {},
       "output_type": "pyout",
       "prompt_number": 30,
       "text": [
        "13"
       ]
      }
     ],
     "prompt_number": 30
    },
    {
     "cell_type": "code",
     "collapsed": false,
     "input": [
      "import sys\n",
      "\n",
      "from cyvpr.bisect import BinaryRightBisect"
     ],
     "language": "python",
     "metadata": {},
     "outputs": [],
     "prompt_number": 32
    },
    {
     "cell_type": "code",
     "collapsed": false,
     "input": [
      "class BisectUpperBound(BinaryRightBisect):\n",
      "    def __init__(self, target_upper_bound, upper_bound=sys.maxint):\n",
      "        self.target_upper_bound = target_upper_bound\n",
      "        super(BisectUpperBound, self).__init__(upper_bound)\n",
      "        \n",
      "    def evaluate(self, value):\n",
      "        result = (value <= self.target_upper_bound)\n",
      "        print '[evaluate] %s -> %s' % (value, result)\n",
      "        return result"
     ],
     "language": "python",
     "metadata": {},
     "outputs": [],
     "prompt_number": 33
    },
    {
     "cell_type": "code",
     "collapsed": false,
     "input": [
      "br = BisectUpperBound(341, 1000)"
     ],
     "language": "python",
     "metadata": {},
     "outputs": [],
     "prompt_number": 43
    },
    {
     "cell_type": "code",
     "collapsed": false,
     "input": [
      "br.start(10, 25)"
     ],
     "language": "python",
     "metadata": {},
     "outputs": [
      {
       "output_type": "stream",
       "stream": "stdout",
       "text": [
        "[evaluate] 10 -> True\n",
        "[evaluate] 505 -> False\n",
        "[evaluate] 257 -> True\n",
        "[evaluate] 381 -> False\n",
        "[evaluate] 319 -> True\n",
        "[evaluate] 350 -> False\n",
        "[evaluate] 334 -> True\n",
        "[evaluate] 342 -> False\n",
        "[evaluate] 338 -> True\n",
        "[evaluate] 340 -> True\n",
        "[evaluate] 341 -> True\n"
       ]
      },
      {
       "metadata": {},
       "output_type": "pyout",
       "prompt_number": 44,
       "text": [
        "341"
       ]
      }
     ],
     "prompt_number": 44
    },
    {
     "cell_type": "code",
     "collapsed": false,
     "input": [
      "br.start(50, 20)"
     ],
     "language": "python",
     "metadata": {},
     "outputs": [
      {
       "output_type": "stream",
       "stream": "stdout",
       "text": [
        "[evaluate] 50 -> True\n",
        "[evaluate] 525 -> False\n",
        "[evaluate] 287 -> True\n",
        "[evaluate] 406 -> False\n",
        "[evaluate] 346 -> False\n",
        "[evaluate] 316 -> True\n",
        "[evaluate] 331 -> True\n",
        "[evaluate] 338 -> True\n",
        "[evaluate] 342 -> False\n",
        "[evaluate] 340 -> True\n",
        "[evaluate] 341 -> True\n"
       ]
      },
      {
       "metadata": {},
       "output_type": "pyout",
       "prompt_number": 46,
       "text": [
        "341"
       ]
      }
     ],
     "prompt_number": 46
    },
    {
     "cell_type": "code",
     "collapsed": false,
     "input": [],
     "language": "python",
     "metadata": {},
     "outputs": []
    }
   ],
   "metadata": {}
  }
 ]
}