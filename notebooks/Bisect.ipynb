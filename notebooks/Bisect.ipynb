{
 "metadata": {
  "name": ""
 },
 "nbformat": 3,
 "nbformat_minor": 0,
 "worksheets": [
  {
   "cells": [
    {
     "cell_type": "code",
     "collapsed": false,
     "input": [
      "from cyvpr.bisect import (BisectLowerBound, BisectUpperBound,\n",
      "                          StepLowerBound, StepUpperBound,\n",
      "                          LowerBoundStepFinder,\n",
      "                          LowerBoundBisectFinder)"
     ],
     "language": "python",
     "metadata": {},
     "outputs": [],
     "prompt_number": 1
    },
    {
     "cell_type": "code",
     "collapsed": false,
     "input": [
      "b = BisectLowerBound(known_good=273)"
     ],
     "language": "python",
     "metadata": {},
     "outputs": [],
     "prompt_number": 2
    },
    {
     "cell_type": "code",
     "collapsed": false,
     "input": [
      "b.start(1, verbose=True), b._iteration"
     ],
     "language": "python",
     "metadata": {},
     "outputs": [
      {
       "output_type": "stream",
       "stream": "stdout",
       "text": [
        "[bound-finder] i=1, good=273, bad=1\n",
        "[bound-finder] i=2, good=273, bad=2\n",
        "[bound-finder] i=3, good=273, bad=4\n",
        "[bound-finder] i=4, good=273, bad=8\n",
        "[bound-finder] i=5, good=273, bad=16\n",
        "[bound-finder] i=6, good=273, bad=32\n",
        "[bound-finder] i=7, good=273, bad=64\n",
        "[bound-finder] i=8, good=273, bad=128\n",
        "[bound-finder] i=9, good=273, bad=256\n",
        "[bound-finder] i=10, good=512, bad=256\n",
        "[bound-finder] i=11, good=384, bad=256\n",
        "[bound-finder] i=12, good=320, bad=256\n",
        "[bound-finder] i=13, good=288, bad=256\n",
        "[bound-finder] i=14, good=288, bad=272\n",
        "[bound-finder] i=15, good=280, bad=272\n",
        "[bound-finder] i=16, good=276, bad=272\n",
        "[bound-finder] i=17, good=274, bad=272\n",
        "[bound-finder] i=18, good=273, bad=272\n",
        "[bound-finder] i=19, good=273, bad=272\n"
       ]
      },
      {
       "metadata": {},
       "output_type": "pyout",
       "prompt_number": 3,
       "text": [
        "(273, 19)"
       ]
      }
     ],
     "prompt_number": 3
    },
    {
     "cell_type": "markdown",
     "metadata": {},
     "source": [
      "If we select a starting value of `5`, we arrive at a final value of `10`, as\n",
      "expected."
     ]
    },
    {
     "cell_type": "code",
     "collapsed": false,
     "input": [
      "b.start(200), b._iteration"
     ],
     "language": "python",
     "metadata": {},
     "outputs": [
      {
       "metadata": {},
       "output_type": "pyout",
       "prompt_number": 4,
       "text": [
        "(273, 11)"
       ]
      }
     ],
     "prompt_number": 4
    },
    {
     "cell_type": "code",
     "collapsed": false,
     "input": [
      "b = BisectUpperBound(known_good=341, known_bad=2000)"
     ],
     "language": "python",
     "metadata": {},
     "outputs": [],
     "prompt_number": 5
    },
    {
     "cell_type": "code",
     "collapsed": false,
     "input": [
      "b.start(10, verbose=True), b._iteration"
     ],
     "language": "python",
     "metadata": {},
     "outputs": [
      {
       "output_type": "stream",
       "stream": "stdout",
       "text": [
        "[bound-finder] i=1, good=10, bad=2000\n",
        "[bound-finder] i=2, good=10, bad=1005\n",
        "[bound-finder] i=3, good=10, bad=507\n",
        "[bound-finder] i=4, good=258, bad=507\n",
        "[bound-finder] i=5, good=258, bad=382\n",
        "[bound-finder] i=6, good=320, bad=382\n",
        "[bound-finder] i=7, good=320, bad=351\n",
        "[bound-finder] i=8, good=335, bad=351\n",
        "[bound-finder] i=9, good=335, bad=343\n",
        "[bound-finder] i=10, good=339, bad=343\n",
        "[bound-finder] i=11, good=341, bad=343\n",
        "[bound-finder] i=12, good=341, bad=342\n",
        "[bound-finder] i=13, good=341, bad=342\n"
       ]
      },
      {
       "metadata": {},
       "output_type": "pyout",
       "prompt_number": 6,
       "text": [
        "(341, 13)"
       ]
      }
     ],
     "prompt_number": 6
    },
    {
     "cell_type": "code",
     "collapsed": false,
     "input": [
      "b.start(50, verbose=True), b._iteration"
     ],
     "language": "python",
     "metadata": {},
     "outputs": [
      {
       "output_type": "stream",
       "stream": "stdout",
       "text": [
        "[bound-finder] i=1, good=50, bad=2000\n",
        "[bound-finder] i=2, good=50, bad=1025\n",
        "[bound-finder] i=3, good=50, bad=537\n",
        "[bound-finder] i=4, good=293, bad=537\n",
        "[bound-finder] i=5, good=293, bad=415\n",
        "[bound-finder] i=6, good=293, bad=354\n",
        "[bound-finder] i=7, good=323, bad=354\n",
        "[bound-finder] i=8, good=338, bad=354\n",
        "[bound-finder] i=9, good=338, bad=346\n",
        "[bound-finder] i=10, good=338, bad=342\n",
        "[bound-finder] i=11, good=340, bad=342\n",
        "[bound-finder] i=12, good=341, bad=342\n",
        "[bound-finder] i=13, good=341, bad=342\n"
       ]
      },
      {
       "metadata": {},
       "output_type": "pyout",
       "prompt_number": 7,
       "text": [
        "(341, 13)"
       ]
      }
     ],
     "prompt_number": 7
    },
    {
     "cell_type": "code",
     "collapsed": false,
     "input": [
      "s = StepLowerBound(step=10, known_good=25, known_bad=0)"
     ],
     "language": "python",
     "metadata": {},
     "outputs": [],
     "prompt_number": 8
    },
    {
     "cell_type": "code",
     "collapsed": false,
     "input": [
      "s.start(10), s._iteration"
     ],
     "language": "python",
     "metadata": {},
     "outputs": [
      {
       "metadata": {},
       "output_type": "pyout",
       "prompt_number": 9,
       "text": [
        "(25, 8)"
       ]
      }
     ],
     "prompt_number": 9
    },
    {
     "cell_type": "code",
     "collapsed": false,
     "input": [
      "s = StepUpperBound(known_good=0, known_bad=37, step=7)"
     ],
     "language": "python",
     "metadata": {},
     "outputs": [],
     "prompt_number": 10
    },
    {
     "cell_type": "code",
     "collapsed": false,
     "input": [
      "s.start(0, verbose=True)"
     ],
     "language": "python",
     "metadata": {},
     "outputs": [
      {
       "output_type": "stream",
       "stream": "stdout",
       "text": [
        "[bound-finder] i=1, good=0, bad=37\n",
        "[bound-finder] i=2, good=18, bad=37\n",
        "[bound-finder] i=3, good=27, bad=37\n",
        "[bound-finder] i=4, good=32, bad=37\n",
        "[bound-finder] i=5, good=34, bad=37\n",
        "[bound-finder] i=6, good=35, bad=37\n",
        "[bound-finder] i=7, good=36, bad=37\n",
        "[bound-finder] i=8, good=36, bad=37\n"
       ]
      },
      {
       "metadata": {},
       "output_type": "pyout",
       "prompt_number": 11,
       "text": [
        "36"
       ]
      }
     ],
     "prompt_number": 11
    },
    {
     "cell_type": "heading",
     "level": 2,
     "metadata": {},
     "source": [
      "Bisect-finder versus step-finder"
     ]
    },
    {
     "cell_type": "markdown",
     "metadata": {},
     "source": [
      "In the case of a bisect-finder, the search variable is repeatedly doubled until a successful evaluation is achieved.  In contrast, in the case of a step-finder, the search variable is instead repeatedly incremented by the step parameter value until a successful evaluation occurs.\n",
      "\n",
      "Depending on the chosen starting value for the search variable, the evaluation function, and the chosen step value, one of the two finders may take fewer steps to find the boundary-of-interest.\n",
      "\n",
      "Consider the example below.  We first define our evaluation function to report success for any value of at least 37.  Next, we create a bisect-finder and a step-finder using the defined evaluation function, `foo`."
     ]
    },
    {
     "cell_type": "code",
     "collapsed": false,
     "input": [
      "def foo(x):\n",
      "    result = x >= 37\n",
      "    return result\n",
      "\n",
      "t1 = LowerBoundBisectFinder(known_good=500, evaluate=foo)\n",
      "t2 = LowerBoundStepFinder(step=3, known_good=500,\n",
      "                          evaluate=foo)"
     ],
     "language": "python",
     "metadata": {},
     "outputs": [],
     "prompt_number": 14
    },
    {
     "cell_type": "heading",
     "level": 3,
     "metadata": {},
     "source": [
      "Scenario 1: First evaluation fails"
     ]
    },
    {
     "cell_type": "markdown",
     "metadata": {},
     "source": [
      "Given a starting value of 35, we can see that the bisect-finder requires 8 steps to find the lower-bound of 37."
     ]
    },
    {
     "cell_type": "code",
     "collapsed": false,
     "input": [
      "t1.start(35, verbose=True), t1._iteration"
     ],
     "language": "python",
     "metadata": {},
     "outputs": [
      {
       "output_type": "stream",
       "stream": "stdout",
       "text": [
        "[bound-finder] i=1, good=500, bad=35\n",
        "[bound-finder] i=2, good=70, bad=35\n",
        "[bound-finder] i=3, good=52, bad=35\n",
        "[bound-finder] i=4, good=43, bad=35\n",
        "[bound-finder] i=5, good=39, bad=35\n",
        "[bound-finder] i=6, good=37, bad=35\n",
        "[bound-finder] i=7, good=37, bad=36\n",
        "[bound-finder] i=8, good=37, bad=36\n"
       ]
      },
      {
       "metadata": {},
       "output_type": "pyout",
       "prompt_number": 15,
       "text": [
        "(37, 8)"
       ]
      }
     ],
     "prompt_number": 15
    },
    {
     "cell_type": "markdown",
     "metadata": {},
     "source": [
      "Given a starting value of 35, we can see that the step-finder only requires 5 steps to find the lower-bound of 37."
     ]
    },
    {
     "cell_type": "code",
     "collapsed": false,
     "input": [
      "t2.start(35, verbose=True), t2._iteration"
     ],
     "language": "python",
     "metadata": {},
     "outputs": [
      {
       "output_type": "stream",
       "stream": "stdout",
       "text": [
        "[bound-finder] i=1, good=500, bad=35\n",
        "[bound-finder] i=2, good=38, bad=35\n",
        "[bound-finder] i=3, good=38, bad=36\n",
        "[bound-finder] i=4, good=37, bad=36\n",
        "[bound-finder] i=5, good=37, bad=36\n"
       ]
      },
      {
       "metadata": {},
       "output_type": "pyout",
       "prompt_number": 16,
       "text": [
        "(37, 5)"
       ]
      }
     ],
     "prompt_number": 16
    },
    {
     "cell_type": "markdown",
     "metadata": {},
     "source": [
      "Note that the first evaulation fails for both the step-finder and the bisect-finder.  The step-finder takes fewer steps overall, since the bisect-finder doubles the search variable from 30 to 60, which results in a greater overshoot past the lower-bound target value of 37.  This greater overshoot results in a greater number of steps to reach find the lower-bound."
     ]
    },
    {
     "cell_type": "heading",
     "level": 3,
     "metadata": {},
     "source": [
      "Scenario 2: First evaluation succeeds"
     ]
    },
    {
     "cell_type": "markdown",
     "metadata": {},
     "source": [
      "In the case where the first evaluation succeeds, the behaviour of the bisect-finder and the step-finder is identical, as shown below."
     ]
    },
    {
     "cell_type": "code",
     "collapsed": false,
     "input": [
      "t1.start(75, verbose=True), t1._iteration"
     ],
     "language": "python",
     "metadata": {},
     "outputs": [
      {
       "output_type": "stream",
       "stream": "stdout",
       "text": [
        "[bound-finder] i=1, good=75, bad=0\n",
        "[bound-finder] i=2, good=37, bad=0\n",
        "[bound-finder] i=3, good=37, bad=18\n",
        "[bound-finder] i=4, good=37, bad=27\n",
        "[bound-finder] i=5, good=37, bad=32\n",
        "[bound-finder] i=6, good=37, bad=34\n",
        "[bound-finder] i=7, good=37, bad=35\n",
        "[bound-finder] i=8, good=37, bad=36\n",
        "[bound-finder] i=9, good=37, bad=36\n"
       ]
      },
      {
       "metadata": {},
       "output_type": "pyout",
       "prompt_number": 17,
       "text": [
        "(37, 9)"
       ]
      }
     ],
     "prompt_number": 17
    },
    {
     "cell_type": "code",
     "collapsed": false,
     "input": [
      "t2.start(75, verbose=True), t2._iteration"
     ],
     "language": "python",
     "metadata": {},
     "outputs": [
      {
       "output_type": "stream",
       "stream": "stdout",
       "text": [
        "[bound-finder] i=1, good=75, bad=0\n",
        "[bound-finder] i=2, good=37, bad=0\n",
        "[bound-finder] i=3, good=37, bad=18\n",
        "[bound-finder] i=4, good=37, bad=27\n",
        "[bound-finder] i=5, good=37, bad=32\n",
        "[bound-finder] i=6, good=37, bad=34\n",
        "[bound-finder] i=7, good=37, bad=35\n",
        "[bound-finder] i=8, good=37, bad=36\n",
        "[bound-finder] i=9, good=37, bad=36\n"
       ]
      },
      {
       "metadata": {},
       "output_type": "pyout",
       "prompt_number": 18,
       "text": [
        "(37, 9)"
       ]
      }
     ],
     "prompt_number": 18
    },
    {
     "cell_type": "code",
     "collapsed": false,
     "input": [],
     "language": "python",
     "metadata": {},
     "outputs": []
    }
   ],
   "metadata": {}
  }
 ]
}