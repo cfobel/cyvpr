{
 "metadata": {
  "name": ""
 },
 "nbformat": 3,
 "nbformat_minor": 0,
 "worksheets": [
  {
   "cells": [
    {
     "cell_type": "code",
     "collapsed": false,
     "input": [
      "from cyvpr.bisect import (BisectLowerBound, BisectUpperBound,\n",
      "                          StepLowerBound, StepUpperBound,\n",
      "                          LowerBoundStepFinder,\n",
      "                          LowerBoundBisectFinder)"
     ],
     "language": "python",
     "metadata": {},
     "outputs": [],
     "prompt_number": 2
    },
    {
     "cell_type": "code",
     "collapsed": false,
     "input": [
      "b = BisectLowerBound(known_good=273)"
     ],
     "language": "python",
     "metadata": {},
     "outputs": [],
     "prompt_number": 3
    },
    {
     "cell_type": "code",
     "collapsed": false,
     "input": [
      "b.start(1), b._iteration"
     ],
     "language": "python",
     "metadata": {},
     "outputs": [
      {
       "output_type": "stream",
       "stream": "stdout",
       "text": [
        "[evaluate] value=1 (False)\n",
        "[evaluate] value=2 (False)\n",
        "[evaluate] value=4 (False)\n",
        "[evaluate] value=8 (False)\n",
        "[evaluate] value=16 (False)\n",
        "[evaluate] value=32 (False)\n",
        "[evaluate] value=64 (False)\n",
        "[evaluate] value=128 (False)\n",
        "[evaluate] value=256 (False)\n",
        "[evaluate] value=512 (True)\n",
        "[evaluate] value=384 (True)\n",
        "[evaluate] value=320 (True)\n",
        "[evaluate] value=288 (True)\n",
        "[evaluate] value=272 (False)\n",
        "[evaluate] value=280 (True)\n",
        "[evaluate] value=276 (True)\n",
        "[evaluate] value=274 (True)\n",
        "[evaluate] value=273 (True)\n"
       ]
      },
      {
       "metadata": {},
       "output_type": "pyout",
       "prompt_number": 4,
       "text": [
        "(273, 19)"
       ]
      }
     ],
     "prompt_number": 4
    },
    {
     "cell_type": "code",
     "collapsed": false,
     "input": [
      "g = b.start(4, generator=True)"
     ],
     "language": "python",
     "metadata": {},
     "outputs": [],
     "prompt_number": 24
    },
    {
     "cell_type": "code",
     "collapsed": false,
     "input": [
      "g = g.next()\n",
      "g"
     ],
     "language": "python",
     "metadata": {},
     "outputs": [
      {
       "metadata": {},
       "output_type": "pyout",
       "prompt_number": 41,
       "text": [
        "273"
       ]
      }
     ],
     "prompt_number": 41
    },
    {
     "cell_type": "markdown",
     "metadata": {},
     "source": [
      "If we select a starting value of `5`, we arrive at a final value of `10`, as\n",
      "expected."
     ]
    },
    {
     "cell_type": "code",
     "collapsed": false,
     "input": [
      "b.start(200), b._iteration"
     ],
     "language": "python",
     "metadata": {},
     "outputs": [
      {
       "output_type": "stream",
       "stream": "stdout",
       "text": [
        "[evaluate] value=200 (False)\n",
        "[evaluate] value=400 (True)\n",
        "[evaluate] value=300 (True)\n",
        "[evaluate] value=250 (False)\n",
        "[evaluate] value=275 (True)\n",
        "[evaluate] value=262 (False)\n",
        "[evaluate] value=268 (False)\n",
        "[evaluate] value=271 (False)\n",
        "[evaluate] value=273 (True)\n",
        "[evaluate] value=272 (False)\n"
       ]
      },
      {
       "metadata": {},
       "output_type": "pyout",
       "prompt_number": 23,
       "text": [
        "(273, 11)"
       ]
      }
     ],
     "prompt_number": 23
    },
    {
     "cell_type": "code",
     "collapsed": false,
     "input": [
      "b = BisectUpperBound(known_good=341, known_bad=2000)"
     ],
     "language": "python",
     "metadata": {},
     "outputs": [],
     "prompt_number": 6
    },
    {
     "cell_type": "code",
     "collapsed": false,
     "input": [
      "b.start(10), b._iteration"
     ],
     "language": "python",
     "metadata": {},
     "outputs": [
      {
       "output_type": "stream",
       "stream": "stdout",
       "text": [
        "[evaluate] value=10 (True)\n",
        "[evaluate] value=1005 (False)\n",
        "[evaluate] value=507 (False)\n",
        "[evaluate] value=258 (True)\n",
        "[evaluate] value=382 (False)\n",
        "[evaluate] value=320 (True)\n",
        "[evaluate] value=351 (False)\n",
        "[evaluate] value=335 (True)\n",
        "[evaluate] value=343 (False)\n",
        "[evaluate] value=339 (True)\n",
        "[evaluate] value=341 (True)\n",
        "[evaluate] value=342 (False)\n"
       ]
      },
      {
       "metadata": {},
       "output_type": "pyout",
       "prompt_number": 7,
       "text": [
        "(341, 13)"
       ]
      }
     ],
     "prompt_number": 7
    },
    {
     "cell_type": "code",
     "collapsed": false,
     "input": [
      "b.start(50), b._iteration"
     ],
     "language": "python",
     "metadata": {},
     "outputs": [
      {
       "output_type": "stream",
       "stream": "stdout",
       "text": [
        "[evaluate] value=50 (True)\n",
        "[evaluate] value=1025 (False)\n",
        "[evaluate] value=537 (False)\n",
        "[evaluate] value=293 (True)\n",
        "[evaluate] value=415 (False)\n",
        "[evaluate] value=354 (False)\n",
        "[evaluate] value=323 (True)\n",
        "[evaluate] value=338 (True)\n",
        "[evaluate] value=346 (False)\n",
        "[evaluate] value=342 (False)\n",
        "[evaluate] value=340 (True)\n",
        "[evaluate] value=341 (True)\n"
       ]
      },
      {
       "metadata": {},
       "output_type": "pyout",
       "prompt_number": 8,
       "text": [
        "(341, 13)"
       ]
      }
     ],
     "prompt_number": 8
    },
    {
     "cell_type": "code",
     "collapsed": false,
     "input": [
      "s = StepLowerBound(step=10, known_good=25, known_bad=0)"
     ],
     "language": "python",
     "metadata": {},
     "outputs": [],
     "prompt_number": 9
    },
    {
     "cell_type": "code",
     "collapsed": false,
     "input": [
      "s.start(10), s._iteration"
     ],
     "language": "python",
     "metadata": {},
     "outputs": [
      {
       "output_type": "stream",
       "stream": "stdout",
       "text": [
        "[evaluate] value=10 (False)\n",
        "[evaluate] value=20 (False)\n",
        "[evaluate] value=30 (True)\n",
        "[evaluate] value=25 (True)\n",
        "[evaluate] value=22 (False)\n",
        "[evaluate] value=23 (False)\n",
        "[evaluate] value=24 (False)\n"
       ]
      },
      {
       "metadata": {},
       "output_type": "pyout",
       "prompt_number": 10,
       "text": [
        "(25, 8)"
       ]
      }
     ],
     "prompt_number": 10
    },
    {
     "cell_type": "code",
     "collapsed": false,
     "input": [
      "s = StepUpperBound(known_good=0, known_bad=37, step=7)"
     ],
     "language": "python",
     "metadata": {},
     "outputs": [],
     "prompt_number": 11
    },
    {
     "cell_type": "code",
     "collapsed": false,
     "input": [
      "s.start(50)"
     ],
     "language": "python",
     "metadata": {},
     "outputs": [
      {
       "output_type": "stream",
       "stream": "stdout",
       "text": [
        "[evaluate] value=50 (False)\n",
        "[evaluate] value=43 (False)\n",
        "[evaluate] value=36 (True)\n",
        "[evaluate] value=39 (False)\n",
        "[evaluate] value=37 (False)\n"
       ]
      },
      {
       "metadata": {},
       "output_type": "pyout",
       "prompt_number": 12,
       "text": [
        "36"
       ]
      }
     ],
     "prompt_number": 12
    },
    {
     "cell_type": "heading",
     "level": 2,
     "metadata": {},
     "source": [
      "Bisect-finder versus step-finder"
     ]
    },
    {
     "cell_type": "markdown",
     "metadata": {},
     "source": [
      "In the case of a bisect-finder, the search variable is repeatedly doubled until a successful evaluation is achieved.  In contrast, in the case of a step-finder, the search variable is instead repeatedly incremented by the step parameter value until a successful evaluation occurs.\n",
      "\n",
      "Depending on the chosen starting value for the search variable, the evaluation function, and the chosen step value, one of the two finders may take fewer steps to find the boundary-of-interest.\n",
      "\n",
      "Consider the example below.  We first define our evaluation function to report success for any value of at least 37.  Next, we create a bisect-finder and a step-finder using the defined evaluation function, `foo`."
     ]
    },
    {
     "cell_type": "code",
     "collapsed": false,
     "input": [
      "def foo(x):\n",
      "    result = x >= 37\n",
      "    print '[evaluate] value=%s (%s)' % (x, result)\n",
      "    return result\n",
      "\n",
      "t1 = LowerBoundBisectFinder(known_good=500, evaluate=foo)\n",
      "t2 = LowerBoundStepFinder(step=3, known_good=500,\n",
      "                          evaluate=foo)"
     ],
     "language": "python",
     "metadata": {},
     "outputs": [],
     "prompt_number": 13
    },
    {
     "cell_type": "heading",
     "level": 3,
     "metadata": {},
     "source": [
      "Scenario 1: First evaluation fails"
     ]
    },
    {
     "cell_type": "markdown",
     "metadata": {},
     "source": [
      "Given a starting value of 35, we can see that the bisect-finder requires 8 steps to find the lower-bound of 37."
     ]
    },
    {
     "cell_type": "code",
     "collapsed": false,
     "input": [
      "t1.start(35), t1._iteration"
     ],
     "language": "python",
     "metadata": {},
     "outputs": [
      {
       "output_type": "stream",
       "stream": "stdout",
       "text": [
        "[evaluate] value=35 (False)\n",
        "[evaluate] value=70 (True)\n",
        "[evaluate] value=52 (True)\n",
        "[evaluate] value=43 (True)\n",
        "[evaluate] value=39 (True)\n",
        "[evaluate] value=37 (True)\n",
        "[evaluate] value=36 (False)\n"
       ]
      },
      {
       "metadata": {},
       "output_type": "pyout",
       "prompt_number": 14,
       "text": [
        "(37, 8)"
       ]
      }
     ],
     "prompt_number": 14
    },
    {
     "cell_type": "markdown",
     "metadata": {},
     "source": [
      "Given a starting value of 35, we can see that the step-finder only requires 5 steps to find the lower-bound of 37."
     ]
    },
    {
     "cell_type": "code",
     "collapsed": false,
     "input": [
      "t2.start(35), t2._iteration"
     ],
     "language": "python",
     "metadata": {},
     "outputs": [
      {
       "output_type": "stream",
       "stream": "stdout",
       "text": [
        "[evaluate] value=35 (False)\n",
        "[evaluate] value=38 (True)\n",
        "[evaluate] value=36 (False)\n",
        "[evaluate] value=37 (True)\n"
       ]
      },
      {
       "metadata": {},
       "output_type": "pyout",
       "prompt_number": 15,
       "text": [
        "(37, 5)"
       ]
      }
     ],
     "prompt_number": 15
    },
    {
     "cell_type": "markdown",
     "metadata": {},
     "source": [
      "Note that the first evaulation fails for both the step-finder and the bisect-finder.  The step-finder takes fewer steps overall, since the bisect-finder doubles the search variable from 30 to 60, which results in a greater overshoot past the lower-bound target value of 37.  This greater overshoot results in a greater number of steps to reach find the lower-bound."
     ]
    },
    {
     "cell_type": "heading",
     "level": 3,
     "metadata": {},
     "source": [
      "Scenario 2: First evaluation succeeds"
     ]
    },
    {
     "cell_type": "markdown",
     "metadata": {},
     "source": [
      "In the case where the first evaluation succeeds, the behaviour of the bisect-finder and the step-finder is identical, as shown below."
     ]
    },
    {
     "cell_type": "code",
     "collapsed": false,
     "input": [
      "t1.start(75), t1._iteration"
     ],
     "language": "python",
     "metadata": {},
     "outputs": [
      {
       "output_type": "stream",
       "stream": "stdout",
       "text": [
        "[evaluate] value=75 (True)\n",
        "[evaluate] value=37 (True)\n",
        "[evaluate] value=18 (False)\n",
        "[evaluate] value=27 (False)\n",
        "[evaluate] value=32 (False)\n",
        "[evaluate] value=34 (False)\n",
        "[evaluate] value=35 (False)\n",
        "[evaluate] value=36 (False)\n"
       ]
      },
      {
       "metadata": {},
       "output_type": "pyout",
       "prompt_number": 16,
       "text": [
        "(37, 9)"
       ]
      }
     ],
     "prompt_number": 16
    },
    {
     "cell_type": "code",
     "collapsed": false,
     "input": [
      "t2.start(75), t2._iteration"
     ],
     "language": "python",
     "metadata": {},
     "outputs": [
      {
       "output_type": "stream",
       "stream": "stdout",
       "text": [
        "[evaluate] value=75 (True)\n",
        "[evaluate] value=37 (True)\n",
        "[evaluate] value=18 (False)\n",
        "[evaluate] value=27 (False)\n",
        "[evaluate] value=32 (False)\n",
        "[evaluate] value=34 (False)\n",
        "[evaluate] value=35 (False)\n",
        "[evaluate] value=36 (False)\n"
       ]
      },
      {
       "metadata": {},
       "output_type": "pyout",
       "prompt_number": 17,
       "text": [
        "(37, 9)"
       ]
      }
     ],
     "prompt_number": 17
    }
   ],
   "metadata": {}
  }
 ]
}