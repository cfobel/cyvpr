{
 "metadata": {
  "name": ""
 },
 "nbformat": 3,
 "nbformat_minor": 0,
 "worksheets": [
  {
   "cells": [
    {
     "cell_type": "code",
     "collapsed": false,
     "input": [
      "import sys\n",
      "\n",
      "\n",
      "class Bisect(object):\n",
      "    def _reset(self, max_iterations):\n",
      "        self.most_recent_failed = None\n",
      "        self.lowest_success = sys.maxint\n",
      "        self.max_iterations = max_iterations\n",
      "        self._iteration = 0\n",
      "    \n",
      "    def evaluate(self, value):\n",
      "        raise NotImplementedError\n",
      "    \n",
      "    def start(self, start_value, max_iterations=10):\n",
      "        self._iteration = 0\n",
      "        self._reset(max_iterations)\n",
      "        return self._run(start_value)\n",
      "        \n",
      "    def _run(self, start_value):\n",
      "        self._iteration += 1\n",
      "        if self._iteration >= self.max_iterations:\n",
      "            raise IndexError, ('Maximum number of iterations (%d) '\n",
      "                               'reached.' % self._iteration)\n",
      "        if (self.most_recent_failed is not None and\n",
      "            self.most_recent_failed == start_value):\n",
      "            return self.lowest_success\n",
      "        success = self.evaluate(start_value)\n",
      "        if not success:\n",
      "            self.most_recent_failed = start_value\n",
      "            if self.lowest_success == sys.maxint:\n",
      "                # We haven't processed a successful evaluation yet,\n",
      "                # so double the start-value and try again.\n",
      "                new_start = start_value * 2\n",
      "            else:\n",
      "                # There has been at least one value that has\n",
      "                # resulted in a successful evaluation.  Since the\n",
      "                # current value failed evaluation, try a value\n",
      "                # half-way between the current value and the lowest\n",
      "                # successful value encountered so far.\n",
      "                new_start = ((self.lowest_success -\n",
      "                              self.most_recent_failed) /\n",
      "                             2 + self.most_recent_failed)\n",
      "            return self._run(new_start)\n",
      "        else:\n",
      "            # Since the current run was successful, try to find a\n",
      "            # lower successful value between the current value and\n",
      "            # the most-recently-failed value.\n",
      "            self.lowest_success = start_value\n",
      "            new_start = ((self.lowest_success -\n",
      "                          self.most_recent_failed) /\n",
      "                         2 + self.most_recent_failed)\n",
      "            return self._run(new_start)"
     ],
     "language": "python",
     "metadata": {},
     "outputs": [],
     "prompt_number": 36
    },
    {
     "cell_type": "code",
     "collapsed": false,
     "input": [
      "class Bisect10to15(Bisect):\n",
      "    def evaluate(self, value):\n",
      "        result = (value >= 10 and value <= 15)\n",
      "        print '[evaluate] %s -> %s' % (value, result)\n",
      "        return result"
     ],
     "language": "python",
     "metadata": {},
     "outputs": [],
     "prompt_number": 37
    },
    {
     "cell_type": "code",
     "collapsed": false,
     "input": [
      "b = Bisect10to15()"
     ],
     "language": "python",
     "metadata": {},
     "outputs": [],
     "prompt_number": 38
    },
    {
     "cell_type": "code",
     "collapsed": false,
     "input": [
      "try:\n",
      "    b.start(35)\n",
      "except IndexError:\n",
      "    print ('This error is expected, since our bisect method will '\n",
      "           'continue to increase the variable term until success '\n",
      "           'occurs.  However, in our case, if we only increase from'\n",
      "           ' 35, we will never reach our target range of '\n",
      "           ' `10 <= x <= 15`')"
     ],
     "language": "python",
     "metadata": {},
     "outputs": [
      {
       "output_type": "stream",
       "stream": "stdout",
       "text": [
        "[evaluate] 35 -> False\n",
        "[evaluate] 70 -> False\n",
        "[evaluate] 140 -> False\n",
        "[evaluate] 280 -> False\n",
        "[evaluate] 560 -> False\n",
        "[evaluate] 1120 -> False\n",
        "[evaluate] 2240 -> False\n",
        "[evaluate] 4480 -> False\n",
        "[evaluate] 8960 -> False\n",
        "This error is expected, since our bisect method will continue to increase the variable term until success occurs.  However, in our case, if we only increase from 35, we will never reach our target range of  `10 <= x <= 15`\n"
       ]
      }
     ],
     "prompt_number": 45
    },
    {
     "cell_type": "markdown",
     "metadata": {},
     "source": [
      "If we select a starting value of `5`, we arrive at a final value of `10`, as\n",
      "expected."
     ]
    },
    {
     "cell_type": "code",
     "collapsed": false,
     "input": [
      "b.start(5)"
     ],
     "language": "python",
     "metadata": {},
     "outputs": [
      {
       "output_type": "stream",
       "stream": "stdout",
       "text": [
        "[evaluate] 5 -> False\n",
        "[evaluate] 10 -> True\n",
        "[evaluate] 7 -> False\n",
        "[evaluate] 8 -> False\n",
        "[evaluate] 9 -> False\n"
       ]
      },
      {
       "metadata": {},
       "output_type": "pyout",
       "prompt_number": 46,
       "text": [
        "10"
       ]
      }
     ],
     "prompt_number": 46
    },
    {
     "cell_type": "code",
     "collapsed": false,
     "input": [],
     "language": "python",
     "metadata": {},
     "outputs": []
    }
   ],
   "metadata": {}
  }
 ]
}